{
 "cells": [
  {
   "cell_type": "code",
   "execution_count": null,
   "metadata": {},
   "outputs": [],
   "source": [
    "%load_ext autoreload\n",
    "\n",
    "%autoreload 2\n",
    "import matplotlib.pyplot as plt"
   ]
  },
  {
   "cell_type": "code",
   "execution_count": null,
   "metadata": {},
   "outputs": [],
   "source": [
    "import geopandas as gpd\n",
    "df = gpd.read_file(\"../../data/shp_plan_regional_parcels_full/ParcelsAnoka.shp\")\n",
    "fig, ax = plt.subplots(figsize=[15,10])\n",
    "df.plot(ax=ax)\n",
    "plt.show()\n",
    "fig.savefig(\"images/AnokaParcels.png\", bbox_inches=\"tight\")"
   ]
  },
  {
   "cell_type": "code",
   "execution_count": null,
   "metadata": {},
   "outputs": [],
   "source": [
    "import numpy as np\n",
    "import matplotlib.pyplot as plt\n",
    "from mpl_toolkits.basemap import Basemap\n"
   ]
  },
  {
   "cell_type": "markdown",
   "metadata": {},
   "source": [
    "Data has incorrect longitude latitude.\n",
    "They are provided as the projects for the current crs of EPSG:26915 rather than the actual longitude latitude.\n",
    "These need to be correct before they can be used for comparison."
   ]
  },
  {
   "cell_type": "code",
   "execution_count": null,
   "metadata": {},
   "outputs": [],
   "source": [
    "import pandas as pd\n",
    "d = pd.DataFrame(taables.records)"
   ]
  },
  {
   "cell_type": "code",
   "execution_count": null,
   "metadata": {},
   "outputs": [],
   "source": [
    "from geotools.path_calc import shp_parcel_address_search\n",
    "lat, lng = [45.147762, -93.134160]\n",
    "address_data = shp_parcel_address_search(lng, lat, 5000.)"
   ]
  },
  {
   "cell_type": "code",
   "execution_count": null,
   "metadata": {},
   "outputs": [],
   "source": [
    "address_data[1][0]"
   ]
  },
  {
   "cell_type": "code",
   "execution_count": null,
   "metadata": {},
   "outputs": [],
   "source": [
    "address_data[0].columns"
   ]
  },
  {
   "cell_type": "code",
   "execution_count": null,
   "metadata": {},
   "outputs": [],
   "source": [
    "cols = [\"COUNTY_PIN\", \"STATE_PIN\", \"ZIP\", \"PLAT_NAME\", \"CO_CODE\", \"CO_NAME\", \"TOTAL_TAX\", \"USECLASS1\", \"DISTANCE\"]"
   ]
  },
  {
   "cell_type": "code",
   "execution_count": null,
   "metadata": {},
   "outputs": [],
   "source": [
    "print(address_data[0].loc[:,cols].head().to_markdown())"
   ]
  },
  {
   "cell_type": "code",
   "execution_count": null,
   "metadata": {},
   "outputs": [],
   "source": [
    "type(address_data)"
   ]
  },
  {
   "cell_type": "code",
   "execution_count": null,
   "metadata": {},
   "outputs": [],
   "source": [
    "address_data[\"USECLASS\"].unique().tolist()"
   ]
  },
  {
   "cell_type": "code",
   "execution_count": null,
   "metadata": {},
   "outputs": [],
   "source": []
  },
  {
   "cell_type": "code",
   "execution_count": null,
   "metadata": {},
   "outputs": [],
   "source": [
    "address_data.groupby(\"YEAR_BUILT\").size()\n"
   ]
  },
  {
   "cell_type": "code",
   "execution_count": null,
   "metadata": {},
   "outputs": [],
   "source": [
    "ahousing_types = ['AGRICULTURAL', 'RESIDENTIAL SINGLE FAMILY',\n",
    "       'COMMERCIAL / GOLF COURSE', 'TAX FORFEIT', 'RESIDENTIAL DUPLEXES',\n",
    "       'MANUFACTURED HOME PARK', 'APARTMENTS / COOP', 'CONDOMINIUMS',\n",
    "       'SEASONAL RECREATIONAL', 'UTILITY PROPERTY', 'INDUSTRIAL',\n",
    "       'RAILROAD', 'SERVICE STATION']"
   ]
  },
  {
   "cell_type": "code",
   "execution_count": null,
   "metadata": {},
   "outputs": [],
   "source": [
    "from functools import reduce\n",
    "# reduceaddress_data[\"USECLASS1\"].unique()\n",
    "use_classes = list(reduce(lambda a, b: a + b, [address_data[f\"USECLASS{i}\"].unique().tolist() for i in range(1,5)]))\n",
    "set(use_classes)"
   ]
  },
  {
   "cell_type": "code",
   "execution_count": null,
   "metadata": {},
   "outputs": [],
   "source": [
    "address_data.loc[address_data[\"USECLASS1\"].str.contains(\"APART\")]"
   ]
  },
  {
   "cell_type": "code",
   "execution_count": null,
   "metadata": {},
   "outputs": [],
   "source": [
    "address_data.loc[address_data[\"YEAR_BUILT\"] > 1940][\"YEAR_BUILT\"].hist()"
   ]
  }
 ],
 "metadata": {
  "kernelspec": {
   "display_name": "Python 3.8.7 64-bit ('commute')",
   "language": "python",
   "name": "python38764bitcommute4e1d58fa8b334cfa9498f486b2a001c3"
  },
  "language_info": {
   "codemirror_mode": {
    "name": "ipython",
    "version": 3
   },
   "file_extension": ".py",
   "mimetype": "text/x-python",
   "name": "python",
   "nbconvert_exporter": "python",
   "pygments_lexer": "ipython3",
   "version": "3.8.7"
  }
 },
 "nbformat": 4,
 "nbformat_minor": 4
}
