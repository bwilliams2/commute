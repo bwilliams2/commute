{
 "cells": [
  {
   "cell_type": "code",
   "execution_count": null,
   "metadata": {},
   "outputs": [],
   "source": [
    "using CSV\n",
    "using DataFrames\n",
    "using Glob\n",
    "using DBFTables\n",
    "using TableOperations\n",
    "using Geodesy\n",
    "using Tables\n",
    "d = CSV.read(\"metro_grid.csv\", DataFrame)"
   ]
  },
  {
   "cell_type": "code",
   "execution_count": null,
   "metadata": {},
   "outputs": [],
   "source": [
    "files = glob(\"../webapp/modules/geotools/geotools/data/new_parcels/*.dbf\")"
   ]
  },
  {
   "cell_type": "code",
   "execution_count": null,
   "metadata": {},
   "outputs": [],
   "source": [
    "DBFData = DBFTables.Table(files[1]) |> Tables.rowtable"
   ]
  },
  {
   "cell_type": "code",
   "execution_count": null,
   "metadata": {},
   "outputs": [],
   "source": [
    "DBFData[[1,10]]"
   ]
  },
  {
   "cell_type": "code",
   "execution_count": null,
   "metadata": {},
   "outputs": [],
   "source": [
    "lat, lng = [45.147762, -93.134160]"
   ]
  },
  {
   "cell_type": "code",
   "execution_count": null,
   "metadata": {},
   "outputs": [],
   "source": [
    "getDistance(lng, lat, lng, lat)"
   ]
  },
  {
   "cell_type": "code",
   "execution_count": null,
   "metadata": {},
   "outputs": [],
   "source": [
    "d = []\n",
    "append!(d, 3)"
   ]
  },
  {
   "cell_type": "code",
   "execution_count": null,
   "metadata": {},
   "outputs": [],
   "source": [
    "function getDistance(locLon, locLat, homeLon, homeLat)\n",
    "    loc = LLA(locLat, locLon, 0)\n",
    "    home = LLA(homeLat, homeLon, 0)\n",
    "    return euclidean_distance(loc, home)\n",
    "end\n",
    "\n",
    "function addressSearch(homeLon, homeLat, distance)\n",
    "    files = glob(\"../webapp/modules/geotools/geotools/data/new_parcels/*.dbf\")\n",
    "    dfs = []\n",
    "    for file in files\n",
    "        DBFData = DBFTables.Table(file)\n",
    "        distances = DBFData |> TableOperations.map(x-> (Dis=getDistance(Tables.getcolumn(x, :LONGITUDE), Tables.getcolumn(x, :LATITUDE), lng, lat),)) |> Tables.columntable;\n",
    "        rowTable = DBFData |> Tables.rowtable\n",
    "        filtered = findall(x -> x <= distance, distances[1])\n",
    "        df = DataFrame(rowTable[filtered])\n",
    "        df[!, :Dis] = distances[1][filtered]\n",
    "#         filter!(row => row[:Dis] <= distance, df)\n",
    "        push!(dfs, df)\n",
    "    end\n",
    "    return vcat(dfs)\n",
    "end"
   ]
  },
  {
   "cell_type": "code",
   "execution_count": null,
   "metadata": {},
   "outputs": [],
   "source": [
    "fullDF = addressSearch(lng, lat, 5000)"
   ]
  }
 ],
 "metadata": {
  "kernelspec": {
   "display_name": "Julia 1.5.3",
   "language": "julia",
   "name": "julia-1.5"
  },
  "language_info": {
   "file_extension": ".jl",
   "mimetype": "application/julia",
   "name": "julia",
   "version": "1.5.3"
  }
 },
 "nbformat": 4,
 "nbformat_minor": 4
}
