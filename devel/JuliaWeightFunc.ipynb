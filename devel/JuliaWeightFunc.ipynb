{
 "cells": [
  {
   "cell_type": "code",
   "execution_count": 23,
   "metadata": {},
   "outputs": [
    {
     "data": {
      "text/html": [
       "<table class=\"data-frame\"><thead><tr><th></th><th>lon</th><th>lat</th></tr><tr><th></th><th>Float64</th><th>Float64</th></tr></thead><tbody><p>21,307 rows × 2 columns</p><tr><th>1</th><td>-94.011</td><td>44.4714</td></tr><tr><th>2</th><td>-94.002</td><td>44.4714</td></tr><tr><th>3</th><td>-93.993</td><td>44.4714</td></tr><tr><th>4</th><td>-94.011</td><td>44.4778</td></tr><tr><th>5</th><td>-93.9751</td><td>44.4714</td></tr><tr><th>6</th><td>-93.9841</td><td>44.4714</td></tr><tr><th>7</th><td>-93.993</td><td>44.4778</td></tr><tr><th>8</th><td>-94.002</td><td>44.4778</td></tr><tr><th>9</th><td>-94.011</td><td>44.4842</td></tr><tr><th>10</th><td>-93.9841</td><td>44.4778</td></tr><tr><th>11</th><td>-93.993</td><td>44.4842</td></tr><tr><th>12</th><td>-93.9751</td><td>44.4778</td></tr><tr><th>13</th><td>-94.002</td><td>44.4842</td></tr><tr><th>14</th><td>-94.011</td><td>44.4906</td></tr><tr><th>15</th><td>-93.9841</td><td>44.4842</td></tr><tr><th>16</th><td>-93.993</td><td>44.4906</td></tr><tr><th>17</th><td>-93.9841</td><td>44.4906</td></tr><tr><th>18</th><td>-94.002</td><td>44.4906</td></tr><tr><th>19</th><td>-94.011</td><td>44.497</td></tr><tr><th>20</th><td>-93.9751</td><td>44.4842</td></tr><tr><th>21</th><td>-93.9841</td><td>44.497</td></tr><tr><th>22</th><td>-93.993</td><td>44.497</td></tr><tr><th>23</th><td>-94.011</td><td>44.5034</td></tr><tr><th>24</th><td>-94.002</td><td>44.497</td></tr><tr><th>25</th><td>-93.9751</td><td>44.4906</td></tr><tr><th>26</th><td>-93.9841</td><td>44.5034</td></tr><tr><th>27</th><td>-94.011</td><td>44.5099</td></tr><tr><th>28</th><td>-93.9751</td><td>44.497</td></tr><tr><th>29</th><td>-93.993</td><td>44.5034</td></tr><tr><th>30</th><td>-94.011</td><td>44.5163</td></tr><tr><th>&vellip;</th><td>&vellip;</td><td>&vellip;</td></tr></tbody></table>"
      ],
      "text/latex": [
       "\\begin{tabular}{r|cc}\n",
       "\t& lon & lat\\\\\n",
       "\t\\hline\n",
       "\t& Float64 & Float64\\\\\n",
       "\t\\hline\n",
       "\t1 & -94.011 & 44.4714 \\\\\n",
       "\t2 & -94.002 & 44.4714 \\\\\n",
       "\t3 & -93.993 & 44.4714 \\\\\n",
       "\t4 & -94.011 & 44.4778 \\\\\n",
       "\t5 & -93.9751 & 44.4714 \\\\\n",
       "\t6 & -93.9841 & 44.4714 \\\\\n",
       "\t7 & -93.993 & 44.4778 \\\\\n",
       "\t8 & -94.002 & 44.4778 \\\\\n",
       "\t9 & -94.011 & 44.4842 \\\\\n",
       "\t10 & -93.9841 & 44.4778 \\\\\n",
       "\t11 & -93.993 & 44.4842 \\\\\n",
       "\t12 & -93.9751 & 44.4778 \\\\\n",
       "\t13 & -94.002 & 44.4842 \\\\\n",
       "\t14 & -94.011 & 44.4906 \\\\\n",
       "\t15 & -93.9841 & 44.4842 \\\\\n",
       "\t16 & -93.993 & 44.4906 \\\\\n",
       "\t17 & -93.9841 & 44.4906 \\\\\n",
       "\t18 & -94.002 & 44.4906 \\\\\n",
       "\t19 & -94.011 & 44.497 \\\\\n",
       "\t20 & -93.9751 & 44.4842 \\\\\n",
       "\t21 & -93.9841 & 44.497 \\\\\n",
       "\t22 & -93.993 & 44.497 \\\\\n",
       "\t23 & -94.011 & 44.5034 \\\\\n",
       "\t24 & -94.002 & 44.497 \\\\\n",
       "\t25 & -93.9751 & 44.4906 \\\\\n",
       "\t26 & -93.9841 & 44.5034 \\\\\n",
       "\t27 & -94.011 & 44.5099 \\\\\n",
       "\t28 & -93.9751 & 44.497 \\\\\n",
       "\t29 & -93.993 & 44.5034 \\\\\n",
       "\t30 & -94.011 & 44.5163 \\\\\n",
       "\t$\\dots$ & $\\dots$ & $\\dots$ \\\\\n",
       "\\end{tabular}\n"
      ],
      "text/plain": [
       "\u001b[1m21307×2 DataFrame\u001b[0m\n",
       "\u001b[1m   Row \u001b[0m│\u001b[1m lon      \u001b[0m\u001b[1m lat     \u001b[0m\n",
       "\u001b[1m       \u001b[0m│\u001b[90m Float64  \u001b[0m\u001b[90m Float64 \u001b[0m\n",
       "───────┼───────────────────\n",
       "     1 │ -94.011   44.4714\n",
       "     2 │ -94.002   44.4714\n",
       "     3 │ -93.993   44.4714\n",
       "     4 │ -94.011   44.4778\n",
       "     5 │ -93.9751  44.4714\n",
       "     6 │ -93.9841  44.4714\n",
       "     7 │ -93.993   44.4778\n",
       "     8 │ -94.002   44.4778\n",
       "     9 │ -94.011   44.4842\n",
       "    10 │ -93.9841  44.4778\n",
       "    11 │ -93.993   44.4842\n",
       "   ⋮   │    ⋮         ⋮\n",
       " 21298 │ -92.7354  45.3556\n",
       " 21299 │ -92.7354  45.362\n",
       " 21300 │ -92.7354  45.3683\n",
       " 21301 │ -92.7354  45.3746\n",
       " 21302 │ -92.7354  45.3809\n",
       " 21303 │ -92.7354  45.3872\n",
       " 21304 │ -92.7354  45.3935\n",
       " 21305 │ -92.7354  45.3998\n",
       " 21306 │ -92.7354  45.4061\n",
       " 21307 │ -92.7354  45.4124\n",
       "\u001b[31m         21286 rows omitted\u001b[0m"
      ]
     },
     "execution_count": 23,
     "metadata": {},
     "output_type": "execute_result"
    }
   ],
   "source": [
    "using CSV\n",
    "using DataFrames\n",
    "using Glob\n",
    "using DBFTables\n",
    "using TableOperations\n",
    "using Geodesy\n",
    "using Tables\n",
    "d = CSV.read(\"metro_grid.csv\", DataFrame)"
   ]
  },
  {
   "cell_type": "code",
   "execution_count": 4,
   "metadata": {},
   "outputs": [
    {
     "data": {
      "text/plain": [
       "7-element Array{String,1}:\n",
       " \"../webapp/modules/geotools/geotools/data/new_parcels/ParcelsAnokaPoints.dbf\"\n",
       " \"../webapp/modules/geotools/geotools/data/new_parcels/ParcelsCarverPoints.dbf\"\n",
       " \"../webapp/modules/geotools/geotools/data/new_parcels/ParcelsDakotaPoints.dbf\"\n",
       " \"../webapp/modules/geotools/geotools/data/new_parcels/ParcelsHennepinPoints.dbf\"\n",
       " \"../webapp/modules/geotools/geotools/data/new_parcels/ParcelsRamseyPoints.dbf\"\n",
       " \"../webapp/modules/geotools/geotools/data/new_parcels/ParcelsScottPoints.dbf\"\n",
       " \"../webapp/modules/geotools/geotools/data/new_parcels/ParcelsWashingtonPoints.dbf\""
      ]
     },
     "execution_count": 4,
     "metadata": {},
     "output_type": "execute_result"
    }
   ],
   "source": [
    "files = glob(\"../webapp/modules/geotools/geotools/data/new_parcels/*.dbf\")"
   ]
  },
  {
   "cell_type": "code",
   "execution_count": 123,
   "metadata": {},
   "outputs": [
    {
     "data": {
      "text/plain": [
       "2-element Array{NamedTuple{(:COUNTY_PIN, :STATE_PIN, :ANUMBERPRE, :ANUMBER, :ANUMBERSUF, :ST_PRE_MOD, :ST_PRE_DIR, :ST_PRE_TYP, :ST_PRE_SEP, :ST_NAME, :ST_POS_TYP, :ST_POS_DIR, :ST_POS_MOD, :SUB_TYPE1, :SUB_ID1, :SUB_TYPE2, :SUB_ID2, :ZIP, :ZIP4, :CTU_NAME, :CTU_ID_TXT, :POSTCOMM, :CO_CODE, :CO_NAME, :STATE_CODE, :LOT, :BLOCK, :PLAT_NAME, :OWNER_NAME, :OWNER_MORE, :OWN_ADD_L1, :OWN_ADD_L2, :OWN_ADD_L3, :OWN_ADD_L4, :TAX_NAME, :TAX_ADD_L1, :TAX_ADD_L2, :TAX_ADD_L3, :TAX_ADD_L4, :LANDMARK, :HOMESTEAD, :ACRES_POLY, :ACRES_DEED, :EMV_LAND, :EMV_BLDG, :EMV_TOTAL, :TAX_YEAR, :MKT_YEAR, :TAX_CAPAC, :TOTAL_TAX, :SPEC_ASSES, :USECLASS1, :USECLASS2, :USECLASS3, :USECLASS4, :MULTI_USES, :TAX_EXEMPT, :XUSECLASS1, :XUSECLASS2, :XUSECLASS3, :XUSECLASS4, :DWELL_TYPE, :HOME_STYLE, :FIN_SQ_FT, :GARAGE, :GARAGESQFT, :BASEMENT, :HEATING, :COOLING, :YEAR_BUILT, :NUM_UNITS, :SALE_DATE, :SALE_VALUE, :GREEN_ACRE, :OPEN_SPACE, :AG_PRESERV, :AGPRE_ENRD, :AGPRE_EXPD, :ABB_LEGAL, :EDIT_DATE, :EXP_DATE, :POLYPTREL, :N_STANDARD, :OWNERSHIP, :SCHOOL_DST, :WSHD_DST, :SECTION, :TOWNSHIP, :RANGE, :RANGE_DIR, :PRIN_MER, :PIN, :VIEWID, :LONGITUDE, :LATITUDE),Tuple{Union{Missing, String},Union{Missing, String},Union{Missing, String},Union{Missing, Int64},Union{Missing, String},Union{Missing, String},Union{Missing, String},Union{Missing, String},Union{Missing, String},Union{Missing, String},Union{Missing, String},Union{Missing, String},Union{Missing, String},Union{Missing, String},Union{Missing, String},Union{Missing, String},Union{Missing, String},Union{Missing, String},Union{Missing, String},Union{Missing, String},Union{Missing, String},Union{Missing, String},Union{Missing, String},Union{Missing, String},Union{Missing, String},Union{Missing, String},Union{Missing, String},Union{Missing, String},Union{Missing, String},Union{Missing, String},Union{Missing, String},Union{Missing, String},Union{Missing, String},Union{Missing, String},Union{Missing, String},Union{Missing, String},Union{Missing, String},Union{Missing, String},Union{Missing, String},Union{Missing, String},Union{Missing, String},Union{Missing, Float64},Union{Missing, Float64},Union{Missing, Int64},Union{Missing, Int64},Union{Missing, Int64},Union{Missing, Int64},Union{Missing, Int64},Union{Missing, Int64},Union{Missing, Int64},Union{Missing, Int64},Union{Missing, String},Union{Missing, String},Union{Missing, String},Union{Missing, String},Union{Missing, String},Union{Missing, String},Union{Missing, String},Union{Missing, String},Union{Missing, String},Union{Missing, String},Union{Missing, String},Union{Missing, String},Union{Missing, Int64},Union{Missing, String},Union{Missing, Int64},Union{Missing, String},Union{Missing, String},Union{Missing, String},Union{Missing, Int64},Union{Missing, Int64},Union{Missing, String},Union{Missing, Int64},Union{Missing, String},Union{Missing, String},Union{Missing, String},Union{Missing, String},Union{Missing, String},Union{Missing, String},Union{Missing, String},Union{Missing, String},Union{Missing, Int64},Union{Missing, Int64},Union{Missing, String},Union{Missing, String},Union{Missing, String},Union{Missing, Int64},Union{Missing, Int64},Union{Missing, Int64},Union{Missing, Int64},Union{Missing, Int64},Union{Missing, String},Union{Missing, Int64},Union{Missing, Float64},Union{Missing, Float64}}},1}:\n",
       " NamedTuple{(:COUNTY_PIN, :STATE_PIN, :ANUMBERPRE, :ANUMBER, :ANUMBERSUF, :ST_PRE_MOD, :ST_PRE_DIR, :ST_PRE_TYP, :ST_PRE_SEP, :ST_NAME, :ST_POS_TYP, :ST_POS_DIR, :ST_POS_MOD, :SUB_TYPE1, :SUB_ID1, :SUB_TYPE2, :SUB_ID2, :ZIP, :ZIP4, :CTU_NAME, :CTU_ID_TXT, :POSTCOMM, :CO_CODE, :CO_NAME, :STATE_CODE, :LOT, :BLOCK, :PLAT_NAME, :OWNER_NAME, :OWNER_MORE, :OWN_ADD_L1, :OWN_ADD_L2, :OWN_ADD_L3, :OWN_ADD_L4, :TAX_NAME, :TAX_ADD_L1, :TAX_ADD_L2, :TAX_ADD_L3, :TAX_ADD_L4, :LANDMARK, :HOMESTEAD, :ACRES_POLY, :ACRES_DEED, :EMV_LAND, :EMV_BLDG, :EMV_TOTAL, :TAX_YEAR, :MKT_YEAR, :TAX_CAPAC, :TOTAL_TAX, :SPEC_ASSES, :USECLASS1, :USECLASS2, :USECLASS3, :USECLASS4, :MULTI_USES, :TAX_EXEMPT, :XUSECLASS1, :XUSECLASS2, :XUSECLASS3, :XUSECLASS4, :DWELL_TYPE, :HOME_STYLE, :FIN_SQ_FT, :GARAGE, :GARAGESQFT, :BASEMENT, :HEATING, :COOLING, :YEAR_BUILT, :NUM_UNITS, :SALE_DATE, :SALE_VALUE, :GREEN_ACRE, :OPEN_SPACE, :AG_PRESERV, :AGPRE_ENRD, :AGPRE_EXPD, :ABB_LEGAL, :EDIT_DATE, :EXP_DATE, :POLYPTREL, :N_STANDARD, :OWNERSHIP, :SCHOOL_DST, :WSHD_DST, :SECTION, :TOWNSHIP, :RANGE, :RANGE_DIR, :PRIN_MER, :PIN, :VIEWID, :LONGITUDE, :LATITUDE),Tuple{Union{Missing, String},Union{Missing, String},Union{Missing, String},Union{Missing, Int64},Union{Missing, String},Union{Missing, String},Union{Missing, String},Union{Missing, String},Union{Missing, String},Union{Missing, String},Union{Missing, String},Union{Missing, String},Union{Missing, String},Union{Missing, String},Union{Missing, String},Union{Missing, String},Union{Missing, String},Union{Missing, String},Union{Missing, String},Union{Missing, String},Union{Missing, String},Union{Missing, String},Union{Missing, String},Union{Missing, String},Union{Missing, String},Union{Missing, String},Union{Missing, String},Union{Missing, String},Union{Missing, String},Union{Missing, String},Union{Missing, String},Union{Missing, String},Union{Missing, String},Union{Missing, String},Union{Missing, String},Union{Missing, String},Union{Missing, String},Union{Missing, String},Union{Missing, String},Union{Missing, String},Union{Missing, String},Union{Missing, Float64},Union{Missing, Float64},Union{Missing, Int64},Union{Missing, Int64},Union{Missing, Int64},Union{Missing, Int64},Union{Missing, Int64},Union{Missing, Int64},Union{Missing, Int64},Union{Missing, Int64},Union{Missing, String},Union{Missing, String},Union{Missing, String},Union{Missing, String},Union{Missing, String},Union{Missing, String},Union{Missing, String},Union{Missing, String},Union{Missing, String},Union{Missing, String},Union{Missing, String},Union{Missing, String},Union{Missing, Int64},Union{Missing, String},Union{Missing, Int64},Union{Missing, String},Union{Missing, String},Union{Missing, String},Union{Missing, Int64},Union{Missing, Int64},Union{Missing, String},Union{Missing, Int64},Union{Missing, String},Union{Missing, String},Union{Missing, String},Union{Missing, String},Union{Missing, String},Union{Missing, String},Union{Missing, String},Union{Missing, String},Union{Missing, Int64},Union{Missing, Int64},Union{Missing, String},Union{Missing, String},Union{Missing, String},Union{Missing, Int64},Union{Missing, Int64},Union{Missing, Int64},Union{Missing, Int64},Union{Missing, Int64},Union{Missing, String},Union{Missing, Int64},Union{Missing, Float64},Union{Missing, Float64}}}((\"PINS PENDING\", \"27003-PINS PENDING\", missing, 0, missing, missing, missing, missing, missing, missing, missing, missing, missing, missing, missing, missing, missing, \"55070\", missing, \"Saint Francis\", \"02396487\", \"SAINT FRANCIS\", \"27003\", \"Anoka\", \"MN\", missing, missing, missing, missing, missing, missing, missing, missing, missing, missing, missing, missing, missing, missing, missing, \"No\", 27.89451072, 0.0, 0, 0, 0, 2020, 2019, 0, 0, 0, \"AGRICULTURAL\", missing, missing, missing, missing, \"N\", missing, missing, missing, missing, missing, missing, 0, \"Unknown\", 0, \"Unknown\", missing, missing, 0, 0, missing, 0, \"No\", \"No\", \"No\", missing, missing, missing, missing, \"20200930\", 0, 18, missing, \"01-0015\", \"Upper Rum River WMO\", 32, 34, 24, 0, 0, \"003-PINS PENDING\", 734, -93.356, 45.3986))\n",
       " NamedTuple{(:COUNTY_PIN, :STATE_PIN, :ANUMBERPRE, :ANUMBER, :ANUMBERSUF, :ST_PRE_MOD, :ST_PRE_DIR, :ST_PRE_TYP, :ST_PRE_SEP, :ST_NAME, :ST_POS_TYP, :ST_POS_DIR, :ST_POS_MOD, :SUB_TYPE1, :SUB_ID1, :SUB_TYPE2, :SUB_ID2, :ZIP, :ZIP4, :CTU_NAME, :CTU_ID_TXT, :POSTCOMM, :CO_CODE, :CO_NAME, :STATE_CODE, :LOT, :BLOCK, :PLAT_NAME, :OWNER_NAME, :OWNER_MORE, :OWN_ADD_L1, :OWN_ADD_L2, :OWN_ADD_L3, :OWN_ADD_L4, :TAX_NAME, :TAX_ADD_L1, :TAX_ADD_L2, :TAX_ADD_L3, :TAX_ADD_L4, :LANDMARK, :HOMESTEAD, :ACRES_POLY, :ACRES_DEED, :EMV_LAND, :EMV_BLDG, :EMV_TOTAL, :TAX_YEAR, :MKT_YEAR, :TAX_CAPAC, :TOTAL_TAX, :SPEC_ASSES, :USECLASS1, :USECLASS2, :USECLASS3, :USECLASS4, :MULTI_USES, :TAX_EXEMPT, :XUSECLASS1, :XUSECLASS2, :XUSECLASS3, :XUSECLASS4, :DWELL_TYPE, :HOME_STYLE, :FIN_SQ_FT, :GARAGE, :GARAGESQFT, :BASEMENT, :HEATING, :COOLING, :YEAR_BUILT, :NUM_UNITS, :SALE_DATE, :SALE_VALUE, :GREEN_ACRE, :OPEN_SPACE, :AG_PRESERV, :AGPRE_ENRD, :AGPRE_EXPD, :ABB_LEGAL, :EDIT_DATE, :EXP_DATE, :POLYPTREL, :N_STANDARD, :OWNERSHIP, :SCHOOL_DST, :WSHD_DST, :SECTION, :TOWNSHIP, :RANGE, :RANGE_DIR, :PRIN_MER, :PIN, :VIEWID, :LONGITUDE, :LATITUDE),Tuple{Union{Missing, String},Union{Missing, String},Union{Missing, String},Union{Missing, Int64},Union{Missing, String},Union{Missing, String},Union{Missing, String},Union{Missing, String},Union{Missing, String},Union{Missing, String},Union{Missing, String},Union{Missing, String},Union{Missing, String},Union{Missing, String},Union{Missing, String},Union{Missing, String},Union{Missing, String},Union{Missing, String},Union{Missing, String},Union{Missing, String},Union{Missing, String},Union{Missing, String},Union{Missing, String},Union{Missing, String},Union{Missing, String},Union{Missing, String},Union{Missing, String},Union{Missing, String},Union{Missing, String},Union{Missing, String},Union{Missing, String},Union{Missing, String},Union{Missing, String},Union{Missing, String},Union{Missing, String},Union{Missing, String},Union{Missing, String},Union{Missing, String},Union{Missing, String},Union{Missing, String},Union{Missing, String},Union{Missing, Float64},Union{Missing, Float64},Union{Missing, Int64},Union{Missing, Int64},Union{Missing, Int64},Union{Missing, Int64},Union{Missing, Int64},Union{Missing, Int64},Union{Missing, Int64},Union{Missing, Int64},Union{Missing, String},Union{Missing, String},Union{Missing, String},Union{Missing, String},Union{Missing, String},Union{Missing, String},Union{Missing, String},Union{Missing, String},Union{Missing, String},Union{Missing, String},Union{Missing, String},Union{Missing, String},Union{Missing, Int64},Union{Missing, String},Union{Missing, Int64},Union{Missing, String},Union{Missing, String},Union{Missing, String},Union{Missing, Int64},Union{Missing, Int64},Union{Missing, String},Union{Missing, Int64},Union{Missing, String},Union{Missing, String},Union{Missing, String},Union{Missing, String},Union{Missing, String},Union{Missing, String},Union{Missing, String},Union{Missing, String},Union{Missing, Int64},Union{Missing, Int64},Union{Missing, String},Union{Missing, String},Union{Missing, String},Union{Missing, Int64},Union{Missing, Int64},Union{Missing, Int64},Union{Missing, Int64},Union{Missing, Int64},Union{Missing, String},Union{Missing, Int64},Union{Missing, Float64},Union{Missing, Float64}}}((\"PINS PENDING\", \"27003-PINS PENDING\", missing, 0, missing, missing, missing, missing, missing, missing, missing, missing, missing, missing, missing, missing, missing, \"55303\", missing, \"Ramsey\", \"02396311\", \"ANOKA\", \"27003\", \"Anoka\", \"MN\", missing, missing, missing, missing, missing, missing, missing, missing, missing, missing, missing, missing, missing, missing, missing, \"No\", 8.49695629, 0.0, 0, 0, 0, 2020, 2019, 0, 0, 0, \"AGRICULTURAL\", missing, missing, missing, missing, \"N\", missing, missing, missing, missing, missing, missing, 0, \"Unknown\", 0, \"Unknown\", missing, missing, 0, 0, missing, 0, \"No\", \"No\", \"No\", missing, missing, missing, missing, \"20200930\", 0, 18, missing, \"01-0728\", \"Lower Rum River WMO\", 19, 32, 25, 0, 0, \"003-PINS PENDING\", 113262, -93.511, 45.2543))"
      ]
     },
     "execution_count": 123,
     "metadata": {},
     "output_type": "execute_result"
    }
   ],
   "source": [
    "DBFData = DBFTables.Table(files[1]) |> Tables.rowtable"
   ]
  },
  {
   "cell_type": "code",
   "execution_count": null,
   "metadata": {},
   "outputs": [],
   "source": [
    "DBFData[[1,10]]"
   ]
  },
  {
   "cell_type": "code",
   "execution_count": 12,
   "metadata": {},
   "outputs": [
    {
     "data": {
      "text/plain": [
       "2-element Array{Float64,1}:\n",
       "  45.147762\n",
       " -93.13416"
      ]
     },
     "execution_count": 12,
     "metadata": {},
     "output_type": "execute_result"
    }
   ],
   "source": [
    "lat, lng = [45.147762, -93.134160]"
   ]
  },
  {
   "cell_type": "code",
   "execution_count": 36,
   "metadata": {},
   "outputs": [
    {
     "data": {
      "text/plain": [
       "785441.3358866584"
      ]
     },
     "execution_count": 36,
     "metadata": {},
     "output_type": "execute_result"
    }
   ],
   "source": [
    "getDistance(lng, lat, lng, lat)"
   ]
  },
  {
   "cell_type": "code",
   "execution_count": 105,
   "metadata": {},
   "outputs": [
    {
     "data": {
      "text/plain": [
       "1-element Array{Any,1}:\n",
       " 3"
      ]
     },
     "execution_count": 105,
     "metadata": {},
     "output_type": "execute_result"
    }
   ],
   "source": [
    "d = []\n",
    "append!(d, 3)"
   ]
  },
  {
   "cell_type": "code",
   "execution_count": 129,
   "metadata": {},
   "outputs": [
    {
     "data": {
      "text/plain": [
       "addressSearch (generic function with 2 methods)"
      ]
     },
     "execution_count": 129,
     "metadata": {},
     "output_type": "execute_result"
    }
   ],
   "source": [
    "function getDistance(locLon, locLat, homeLon, homeLat)\n",
    "    loc = LLA(locLat, locLon, 0)\n",
    "    home = LLA(homeLat, homeLon, 0)\n",
    "    return euclidean_distance(loc, home)\n",
    "end\n",
    "\n",
    "function addressSearch(homeLon, homeLat, distance)\n",
    "    files = glob(\"../webapp/modules/geotools/geotools/data/new_parcels/*.dbf\")\n",
    "    dfs = []\n",
    "    for file in files\n",
    "        DBFData = DBFTables.Table(file)\n",
    "        distances = DBFData |> TableOperations.map(x-> (Dis=getDistance(Tables.getcolumn(x, :LONGITUDE), Tables.getcolumn(x, :LATITUDE), lng, lat),)) |> Tables.columntable;\n",
    "        rowTable = DBFData |> Tables.rowtable\n",
    "        filtered = findall(x -> x <= distance, distances[1])\n",
    "        df = DataFrame(rowTable[filtered])\n",
    "        df[!, :Dis] = distances[1][filtered]\n",
    "#         filter!(row => row[:Dis] <= distance, df)\n",
    "        push!(dfs, df)\n",
    "    end\n",
    "    return vcat(dfs)\n",
    "end"
   ]
  },
  {
   "cell_type": "code",
   "execution_count": 130,
   "metadata": {},
   "outputs": [
    {
     "data": {
      "text/plain": [
       "7-element Array{Any,1}:\n",
       " \u001b[1m10882×96 DataFrame\u001b[0m\n",
       "\u001b[1m   Row \u001b[0m│\u001b[1m COUNTY_PIN   \u001b[0m\u001b[1m STATE_PIN          \u001b[0m\u001b[1m ANUMBERPRE \u001b[0m\u001b[1m ANUMBER \u001b[0m\u001b[1m ANUMBERSUF \u001b[0m\u001b[1m ST\u001b[0m ⋯\n",
       "\u001b[1m       \u001b[0m│\u001b[90m String?      \u001b[0m\u001b[90m String?            \u001b[0m\u001b[90m String?    \u001b[0m\u001b[90m Int64?  \u001b[0m\u001b[90m String?    \u001b[0m\u001b[90m St\u001b[0m ⋯\n",
       "───────┼────────────────────────────────────────────────────────────────────────\n",
       "     1 │ 363123440053  27003-363123440053 \u001b[90m missing    \u001b[0m       0 \u001b[90m missing    \u001b[0m\u001b[90m mi\u001b[0m ⋯\n",
       "     2 │ 363123440052  27003-363123440052 \u001b[90m missing    \u001b[0m       0 \u001b[90m missing    \u001b[0m\u001b[90m mi\u001b[0m\n",
       "     3 │ 363123440051  27003-363123440051 \u001b[90m missing    \u001b[0m     110 \u001b[90m missing    \u001b[0m\u001b[90m mi\u001b[0m\n",
       "     4 │ 363123440050  27003-363123440050 \u001b[90m missing    \u001b[0m     108 \u001b[90m missing    \u001b[0m\u001b[90m mi\u001b[0m\n",
       "     5 │ 363123440049  27003-363123440049 \u001b[90m missing    \u001b[0m     106 \u001b[90m missing    \u001b[0m\u001b[90m mi\u001b[0m ⋯\n",
       "     6 │ 363123440048  27003-363123440048 \u001b[90m missing    \u001b[0m     104 \u001b[90m missing    \u001b[0m\u001b[90m mi\u001b[0m\n",
       "     7 │ 363123440047  27003-363123440047 \u001b[90m missing    \u001b[0m     102 \u001b[90m missing    \u001b[0m\u001b[90m mi\u001b[0m\n",
       "     8 │ 363123440046  27003-363123440046 \u001b[90m missing    \u001b[0m       1 \u001b[90m missing    \u001b[0m\u001b[90m mi\u001b[0m\n",
       "     9 │ 363123440045  27003-363123440045 \u001b[90m missing    \u001b[0m       3 \u001b[90m missing    \u001b[0m\u001b[90m mi\u001b[0m ⋯\n",
       "    10 │ 363123440044  27003-363123440044 \u001b[90m missing    \u001b[0m       5 \u001b[90m missing    \u001b[0m\u001b[90m mi\u001b[0m\n",
       "    11 │ 363123440043  27003-363123440043 \u001b[90m missing    \u001b[0m       7 \u001b[90m missing    \u001b[0m\u001b[90m mi\u001b[0m\n",
       "   ⋮   │      ⋮                ⋮               ⋮          ⋮         ⋮          ⋱\n",
       " 10873 │ 073122230006  27003-073122230006 \u001b[90m missing    \u001b[0m       0 \u001b[90m missing    \u001b[0m\u001b[90m mi\u001b[0m\n",
       " 10874 │ 073122230005  27003-073122230005 \u001b[90m missing    \u001b[0m    7860 \u001b[90m missing    \u001b[0m\u001b[90m mi\u001b[0m ⋯\n",
       " 10875 │ 073122230002  27003-073122230002 \u001b[90m missing    \u001b[0m    7812 \u001b[90m missing    \u001b[0m\u001b[90m mi\u001b[0m\n",
       " 10876 │ 073122230001  27003-073122230001 \u001b[90m missing    \u001b[0m    7800 \u001b[90m missing    \u001b[0m\u001b[90m mi\u001b[0m\n",
       " 10877 │ 073122140007  27003-073122140007 \u001b[90m missing    \u001b[0m    7801 \u001b[90m missing    \u001b[0m\u001b[90m mi\u001b[0m\n",
       " 10878 │ 073122140006  27003-073122140006 \u001b[90m missing    \u001b[0m     379 \u001b[90m missing    \u001b[0m\u001b[90m mi\u001b[0m ⋯\n",
       " 10879 │ 073122140003  27003-073122140003 \u001b[90m missing    \u001b[0m    7861 \u001b[90m missing    \u001b[0m\u001b[90m mi\u001b[0m\n",
       " 10880 │ 073122140002  27003-073122140002 \u001b[90m missing    \u001b[0m    7865 \u001b[90m missing    \u001b[0m\u001b[90m mi\u001b[0m\n",
       " 10881 │ 073122140001  27003-073122140001 \u001b[90m missing    \u001b[0m     345 \u001b[90m missing    \u001b[0m\u001b[90m mi\u001b[0m\n",
       " 10882 │ 073122130001  27003-073122130001 \u001b[90m missing    \u001b[0m       0 \u001b[90m missing    \u001b[0m\u001b[90m mi\u001b[0m ⋯\n",
       "\u001b[31m                                               91 columns and 10861 rows omitted\u001b[0m\n",
       " \u001b[1m0×96 DataFrame\u001b[0m\n",
       " \u001b[1m0×96 DataFrame\u001b[0m\n",
       " \u001b[1m0×96 DataFrame\u001b[0m\n",
       " \u001b[1m3950×96 DataFrame\u001b[0m\n",
       "\u001b[1m  Row \u001b[0m│\u001b[1m COUNTY_PIN   \u001b[0m\u001b[1m STATE_PIN          \u001b[0m\u001b[1m ANUMBERPRE \u001b[0m\u001b[1m ANUMBER \u001b[0m\u001b[1m ANUMBERSUF \u001b[0m\u001b[1m ST_\u001b[0m ⋯\n",
       "\u001b[1m      \u001b[0m│\u001b[90m String?      \u001b[0m\u001b[90m String?            \u001b[0m\u001b[90m String?    \u001b[0m\u001b[90m Int64?  \u001b[0m\u001b[90m String?    \u001b[0m\u001b[90m Str\u001b[0m ⋯\n",
       "──────┼─────────────────────────────────────────────────────────────────────────\n",
       "    1 │ 1683M90000    27123-1683M90000   \u001b[90m missing    \u001b[0m    1610 \u001b[90m missing    \u001b[0m\u001b[90m mis\u001b[0m ⋯\n",
       "    2 │ 1683M80000    27123-1683M80000   \u001b[90m missing    \u001b[0m    1655 \u001b[90m missing    \u001b[0m\u001b[90m mis\u001b[0m\n",
       "    3 │ 1683M77550    27123-1683M77550   \u001b[90m missing    \u001b[0m    1659 \u001b[90m missing    \u001b[0m\u001b[90m mis\u001b[0m\n",
       "    4 │ 1683M77504    27123-1683M77504   \u001b[90m missing    \u001b[0m    1614 \u001b[90m missing    \u001b[0m\u001b[90m mis\u001b[0m\n",
       "    5 │ 1683M77503    27123-1683M77503   \u001b[90m missing    \u001b[0m    1581 \u001b[90m missing    \u001b[0m\u001b[90m mis\u001b[0m ⋯\n",
       "    6 │ 1683M77502    27123-1683M77502   \u001b[90m missing    \u001b[0m    1574 \u001b[90m missing    \u001b[0m\u001b[90m mis\u001b[0m\n",
       "    7 │ 1683M77498    27123-1683M77498   \u001b[90m missing    \u001b[0m    1581 \u001b[90m missing    \u001b[0m\u001b[90m mis\u001b[0m\n",
       "    8 │ 1683M77497    27123-1683M77497   \u001b[90m missing    \u001b[0m    1580 \u001b[90m missing    \u001b[0m\u001b[90m mis\u001b[0m\n",
       "    9 │ 1683M77475    27123-1683M77475   \u001b[90m missing    \u001b[0m    1631 \u001b[90m missing    \u001b[0m\u001b[90m mis\u001b[0m ⋯\n",
       "   10 │ 1683M77450    27123-1683M77450   \u001b[90m missing    \u001b[0m    1591 \u001b[90m missing    \u001b[0m\u001b[90m mis\u001b[0m\n",
       "   11 │ 1683M70006    27123-1683M70006   \u001b[90m missing    \u001b[0m    1622 \u001b[90m missing    \u001b[0m\u001b[90m mis\u001b[0m\n",
       "  ⋮   │      ⋮                ⋮               ⋮          ⋮         ⋮           ⋱\n",
       " 3941 │ 013023140009  27123-013023140009 \u001b[90m missing    \u001b[0m     225 \u001b[90m missing    \u001b[0m\u001b[90m mis\u001b[0m\n",
       " 3942 │ 013023140008  27123-013023140008 \u001b[90m missing    \u001b[0m     147 \u001b[90m missing    \u001b[0m\u001b[90m mis\u001b[0m ⋯\n",
       " 3943 │ 013023120011  27123-013023120011 \u001b[90m missing    \u001b[0m       0 \u001b[90m missing    \u001b[0m\u001b[90m mis\u001b[0m\n",
       " 3944 │ 013023120010  27123-013023120010 \u001b[90m missing    \u001b[0m       0 \u001b[90m missing    \u001b[0m\u001b[90m mis\u001b[0m\n",
       " 3945 │ 013023120009  27123-013023120009 \u001b[90m missing    \u001b[0m     276 \u001b[90m missing    \u001b[0m\u001b[90m mis\u001b[0m\n",
       " 3946 │ 013023120008  27123-013023120008 \u001b[90m missing    \u001b[0m     266 \u001b[90m missing    \u001b[0m\u001b[90m mis\u001b[0m ⋯\n",
       " 3947 │ 013023120005  27123-013023120005 \u001b[90m missing    \u001b[0m     306 \u001b[90m missing    \u001b[0m\u001b[90m mis\u001b[0m\n",
       " 3948 │ 013023110003  27123-013023110003 \u001b[90m missing    \u001b[0m     200 \u001b[90m missing    \u001b[0m\u001b[90m mis\u001b[0m\n",
       " 3949 │ 013023110002  27123-013023110002 \u001b[90m missing    \u001b[0m     210 \u001b[90m missing    \u001b[0m\u001b[90m mis\u001b[0m\n",
       " 3950 │ 013023110001  27123-013023110001 \u001b[90m missing    \u001b[0m       0 \u001b[90m missing    \u001b[0m\u001b[90m mis\u001b[0m ⋯\n",
       "\u001b[31m                                                91 columns and 3929 rows omitted\u001b[0m\n",
       " \u001b[1m0×96 DataFrame\u001b[0m\n",
       " \u001b[1m0×96 DataFrame\u001b[0m"
      ]
     },
     "execution_count": 130,
     "metadata": {},
     "output_type": "execute_result"
    }
   ],
   "source": [
    "fullDF = addressSearch(lng, lat, 5000)"
   ]
  }
 ],
 "metadata": {
  "kernelspec": {
   "display_name": "Julia 1.5.3",
   "language": "julia",
   "name": "julia-1.5"
  },
  "language_info": {
   "file_extension": ".jl",
   "mimetype": "application/julia",
   "name": "julia",
   "version": "1.5.3"
  }
 },
 "nbformat": 4,
 "nbformat_minor": 4
}
