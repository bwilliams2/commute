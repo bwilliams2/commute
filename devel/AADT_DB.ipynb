{
 "metadata": {
  "language_info": {
   "codemirror_mode": {
    "name": "ipython",
    "version": 3
   },
   "file_extension": ".py",
   "mimetype": "text/x-python",
   "name": "python",
   "nbconvert_exporter": "python",
   "pygments_lexer": "ipython3",
   "version": "3.8.2-final"
  },
  "orig_nbformat": 2,
  "kernelspec": {
   "name": "python38264bitcommutevenv1ffda8bc98494db0bca66f23d132b556",
   "display_name": "Python 3.8.2 64-bit ('commute': venv)"
  }
 },
 "nbformat": 4,
 "nbformat_minor": 2,
 "cells": [
  {
   "cell_type": "code",
   "execution_count": 12,
   "metadata": {},
   "outputs": [],
   "source": [
    "from pathlib import Path\n",
    "import pandas as pd\n",
    "import fiona\n",
    "from dbfread import DBF\n"
   ]
  },
  {
   "cell_type": "code",
   "execution_count": 14,
   "metadata": {},
   "outputs": [
    {
     "output_type": "execute_result",
     "data": {
      "text/plain": "Index(['SEQUENCE_NUMBER', 'ROUTE_LABEL', 'STREET_NAME', 'LOCATION_DESCRIPTION',\n       'COUNTY_NAME', 'CITY_NAME', 'AADT', 'AADT_COMMENTS', 'DATA_TYPE',\n       'DATA_YEAR'],\n      dtype='object')"
     },
     "metadata": {},
     "execution_count": 14
    }
   ],
   "source": [
    "d = Path(\"../webapp/backend/backend/data/AADT_1997_2019_History_Table_AccessDB/AADT_1997-2019.csv\")\n",
    "historical = pd.read_csv(d)\n",
    "historical.columns"
   ]
  },
  {
   "cell_type": "code",
   "execution_count": 25,
   "metadata": {},
   "outputs": [],
   "source": [
    "tables = DBF(\"../webapp/backend/backend/data/traffic/Annual_Average_Daily_Traffic_Locations_in_Minnesota.dbf\", load=True)\n",
    "gis = pd.DataFrame(tables.records)"
   ]
  },
  {
   "cell_type": "code",
   "execution_count": 37,
   "metadata": {},
   "outputs": [
    {
     "output_type": "execute_result",
     "data": {
      "text/plain": "Index(['SEQUENCE_N', 'FROM_DATE', 'TO_DATE', 'ROUTE_LABE', 'STREET_NAM',\n       'LOCATION_D', 'VEHICLE_CL', 'DAILY_FACT', 'SEASONAL_F', 'AXLE_FACTO',\n       'CURRENT_YE', 'CURRENT_VO', 'AADT_COMME', 'LONGITUDE', 'LATITUDE'],\n      dtype='object')"
     },
     "metadata": {},
     "execution_count": 37
    }
   ],
   "source": [
    "gis.columns"
   ]
  },
  {
   "cell_type": "code",
   "execution_count": 38,
   "metadata": {},
   "outputs": [],
   "source": [
    "traffic = historical.merge(gis[[\"SEQUENCE_N\",\"LONGITUDE\",\"LATITUDE\"]],left_on=\"SEQUENCE_NUMBER\", right_on=\"SEQUENCE_N\")"
   ]
  },
  {
   "cell_type": "code",
   "execution_count": 43,
   "metadata": {},
   "outputs": [
    {
     "output_type": "execute_result",
     "data": {
      "text/plain": "   SEQUENCE_NUMBER ROUTE_LABEL STREET_NAME  ... SEQUENCE_N LONGITUDE LATITUDE\n0             17.0       MN 27         NaN  ...         17   -93.257  46.4483\n1             17.0       MN 27         NaN  ...         17   -93.257  46.4483\n2             17.0       MN 27         NaN  ...         17   -93.257  46.4483\n3             17.0       MN 27         NaN  ...         17   -93.257  46.4483\n4             17.0       MN 27         NaN  ...         17   -93.257  46.4483\n\n[5 rows x 13 columns]",
      "text/html": "<div>\n<style scoped>\n    .dataframe tbody tr th:only-of-type {\n        vertical-align: middle;\n    }\n\n    .dataframe tbody tr th {\n        vertical-align: top;\n    }\n\n    .dataframe thead th {\n        text-align: right;\n    }\n</style>\n<table border=\"1\" class=\"dataframe\">\n  <thead>\n    <tr style=\"text-align: right;\">\n      <th></th>\n      <th>SEQUENCE_NUMBER</th>\n      <th>ROUTE_LABEL</th>\n      <th>STREET_NAME</th>\n      <th>LOCATION_DESCRIPTION</th>\n      <th>COUNTY_NAME</th>\n      <th>CITY_NAME</th>\n      <th>AADT</th>\n      <th>AADT_COMMENTS</th>\n      <th>DATA_TYPE</th>\n      <th>DATA_YEAR</th>\n      <th>SEQUENCE_N</th>\n      <th>LONGITUDE</th>\n      <th>LATITUDE</th>\n    </tr>\n  </thead>\n  <tbody>\n    <tr>\n      <th>0</th>\n      <td>17.0</td>\n      <td>MN 27</td>\n      <td>NaN</td>\n      <td>E OF N JCT TH65 &amp;27</td>\n      <td>Aitkin</td>\n      <td>NaN</td>\n      <td>370.0</td>\n      <td>NaN</td>\n      <td>L</td>\n      <td>2011</td>\n      <td>17</td>\n      <td>-93.257</td>\n      <td>46.4483</td>\n    </tr>\n    <tr>\n      <th>1</th>\n      <td>17.0</td>\n      <td>MN 27</td>\n      <td>NaN</td>\n      <td>E OF N JCT TH65 &amp;27</td>\n      <td>Aitkin</td>\n      <td>NaN</td>\n      <td>402.0</td>\n      <td>NaN</td>\n      <td>L</td>\n      <td>2005</td>\n      <td>17</td>\n      <td>-93.257</td>\n      <td>46.4483</td>\n    </tr>\n    <tr>\n      <th>2</th>\n      <td>17.0</td>\n      <td>MN 27</td>\n      <td>NaN</td>\n      <td>E OF N JCT TH65 &amp;27</td>\n      <td>Aitkin</td>\n      <td>NaN</td>\n      <td>400.0</td>\n      <td>NaN</td>\n      <td>L</td>\n      <td>2004</td>\n      <td>17</td>\n      <td>-93.257</td>\n      <td>46.4483</td>\n    </tr>\n    <tr>\n      <th>3</th>\n      <td>17.0</td>\n      <td>MN 27</td>\n      <td>NaN</td>\n      <td>E OF N JCT TH65 &amp;27</td>\n      <td>Aitkin</td>\n      <td>NaN</td>\n      <td>345.0</td>\n      <td>NaN</td>\n      <td>A</td>\n      <td>2012</td>\n      <td>17</td>\n      <td>-93.257</td>\n      <td>46.4483</td>\n    </tr>\n    <tr>\n      <th>4</th>\n      <td>17.0</td>\n      <td>MN 27</td>\n      <td>NaN</td>\n      <td>E OF N JCT TH65 &amp;27</td>\n      <td>Aitkin</td>\n      <td>NaN</td>\n      <td>320.0</td>\n      <td>NaN</td>\n      <td>A</td>\n      <td>2016</td>\n      <td>17</td>\n      <td>-93.257</td>\n      <td>46.4483</td>\n    </tr>\n  </tbody>\n</table>\n</div>"
     },
     "metadata": {},
     "execution_count": 43
    }
   ],
   "source": []
  },
  {
   "cell_type": "code",
   "execution_count": null,
   "metadata": {},
   "outputs": [],
   "source": []
  }
 ]
}