{
 "cells": [
  {
   "cell_type": "code",
   "execution_count": 7,
   "metadata": {},
   "outputs": [],
   "source": [
    "%load_ext autoreload\n",
    "%autoreload 2"
   ]
  },
  {
   "cell_type": "code",
   "execution_count": 14,
   "metadata": {},
   "outputs": [],
   "source": [
    "from pathlib import Path\n",
    "import pandas as pd\n",
    "import numpy as np\n",
    "import fiona\n",
    "from dbfread import DBF\n",
    "from backend.geotools.path_calc import address_search\n",
    "import seaborn as sns\n"
   ]
  },
  {
   "cell_type": "code",
   "execution_count": 9,
   "metadata": {},
   "outputs": [
    {
     "data": {
      "text/plain": [
       "Index(['SEQUENCE_NUMBER', 'ROUTE_LABEL', 'STREET_NAME', 'LOCATION_DESCRIPTION',\n",
       "       'COUNTY_NAME', 'CITY_NAME', 'AADT', 'AADT_COMMENTS', 'DATA_TYPE',\n",
       "       'DATA_YEAR'],\n",
       "      dtype='object')"
      ]
     },
     "metadata": {},
     "output_type": "execute_result"
    }
   ],
   "source": [
    "d = Path(\"../webapp/backend/backend/data/AADT_1997_2019_History_Table_AccessDB/AADT_1997-2019.csv\")\n",
    "historical = pd.read_csv(d)\n",
    "historical.columns"
   ]
  },
  {
   "cell_type": "code",
   "execution_count": 10,
   "metadata": {},
   "outputs": [],
   "source": [
    "tables = DBF(\"../webapp/backend/backend/data/traffic/Annual_Average_Daily_Traffic_Locations_in_Minnesota.dbf\", load=True)\n",
    "gis = pd.DataFrame(tables.records)"
   ]
  },
  {
   "cell_type": "code",
   "execution_count": 11,
   "metadata": {},
   "outputs": [],
   "source": [
    "traffic = historical.merge(gis[[\"SEQUENCE_N\",\"LONGITUDE\",\"LATITUDE\"]],left_on=\"SEQUENCE_NUMBER\", right_on=\"SEQUENCE_N\")"
   ]
  },
  {
   "cell_type": "code",
   "execution_count": 36,
   "metadata": {},
   "outputs": [],
   "source": [
    "keep_cols = [col for col in traffic.columns if \"DATA_YEAR\" not in col or \"AADT\" not in col]\n",
    "def min_max_difference(df):\n",
    "    years = df[\"DATA_YEAR\"].values\n",
    "    min_year = np.min(years)\n",
    "    max_year = np.max(years)\n",
    "    min_year_traffic = df.loc[years == min_year, \"AADT\"].min()\n",
    "    max_year_traffic = df.loc[years == max_year, \"AADT\"].max()\n",
    "    difference = max_year_traffic - min_year_traffic\n",
    "    df = df.loc[:, keep_cols].drop_duplicates().iloc[0]\n",
    "    df[\"MIN\"] = min_year_traffic\n",
    "    df[\"MAX\"] = max_year_traffic\n",
    "    df[\"DIFF\"] = difference\n",
    "    df[\"MIN_YEAR\"] = min_year\n",
    "    df[\"MAX_YEAR\"] = max_year\n",
    "    return df\n"
   ]
  },
  {
   "cell_type": "code",
   "execution_count": 37,
   "metadata": {},
   "outputs": [],
   "source": [
    "\n",
    "traffic_changes = traffic.groupby(\"SEQUENCE_NUMBER\").apply(min_max_difference)\n",
    "# traffic_changes = pd.read_csv(\"data/Diff_Data.csv\")"
   ]
  },
  {
   "cell_type": "code",
   "execution_count": 38,
   "metadata": {},
   "outputs": [],
   "source": [
    "traffic_changes.to_csv(\"data/Diff_Data.csv\").reset_index(drop=True)"
   ]
  },
  {
   "cell_type": "code",
   "execution_count": 64,
   "metadata": {},
   "outputs": [
    {
     "data": {
      "text/plain": [
       "3716"
      ]
     },
     "metadata": {},
     "output_type": "execute_result"
    }
   ],
   "source": [
    "traffic_changes[\"DIFF\"].idxmax()"
   ]
  },
  {
   "cell_type": "code",
   "execution_count": 69,
   "metadata": {},
   "outputs": [
    {
     "data": {
      "text/plain": [
       "SEQUENCE_NUMBER                                                     10465\n",
       "ROUTE_LABEL                                                         US 10\n",
       "STREET_NAME                                                           NaN\n",
       "LOCATION_DESCRIPTION                                 SE OF TH65 IN BLAINE\n",
       "COUNTY_NAME                                                         Anoka\n",
       "CITY_NAME                                                          Blaine\n",
       "AADT                                                               100000\n",
       "AADT_COMMENTS           19 RTMC, 12 See Hist, 08 TMC DATA, 06 Est FROM...\n",
       "DATA_TYPE                                                               A\n",
       "DATA_YEAR                                                            2018\n",
       "SEQUENCE_N                                                          10465\n",
       "LONGITUDE                                                         -93.227\n",
       "LATITUDE                                                          45.1317\n",
       "MIN                                                                 22500\n",
       "MAX                                                                 92000\n",
       "DIFF                                                                69500\n",
       "MIN_YEAR                                                             1998\n",
       "MAX_YEAR                                                             2019\n",
       "Name: 3716, dtype: object"
      ]
     },
     "metadata": {},
     "output_type": "execute_result"
    }
   ],
   "source": [
    "traffic_changes.iloc[3716]"
   ]
  },
  {
   "cell_type": "code",
   "execution_count": 67,
   "metadata": {},
   "outputs": [
    {
     "data": {
      "text/plain": [
       "10465.0"
      ]
     },
     "metadata": {},
     "output_type": "execute_result"
    }
   ],
   "source": [
    "seq = traffic_changes.iloc[3716][\"SEQUENCE_NUMBER\"]\n",
    "seq"
   ]
  },
  {
   "cell_type": "code",
   "execution_count": 60,
   "metadata": {},
   "outputs": [],
   "source": [
    "seq = traffic_changes.iloc[33280][\"SEQUENCE_NUMBER\"]"
   ]
  },
  {
   "cell_type": "code",
   "execution_count": 71,
   "metadata": {},
   "outputs": [],
   "source": [
    "traffic = traffic.sort_values([\"SEQUENCE_NUMBER\", \"DATA_YEAR\"])"
   ]
  },
  {
   "cell_type": "code",
   "execution_count": 72,
   "metadata": {},
   "outputs": [
    {
     "data": {
      "text/plain": [
       "<matplotlib.axes._subplots.AxesSubplot at 0x7f16f5578430>"
      ]
     },
     "metadata": {},
     "output_type": "execute_result"
    },
    {
     "data": {
      "image/png": "[encoded data removed]",
      "text/plain": [
       "<Figure size 432x288 with 1 Axes>"
      ]
     },
     "metadata": {
      "needs_background": "light"
     },
     "output_type": "display_data"
    }
   ],
   "source": [
    "traffic.loc[traffic[\"SEQUENCE_NUMBER\"] == seq].plot(x=\"DATA_YEAR\", y=\"AADT\")"
   ]
  },
  {
   "cell_type": "code",
   "execution_count": 42,
   "metadata": {},
   "outputs": [
    {
     "data": {
      "text/plain": [
       "<seaborn.axisgrid.FacetGrid at 0x7f16efe99940>"
      ]
     },
     "metadata": {},
     "output_type": "execute_result"
    },
    {
     "data": {
      "image/png": "[encoded data removed]",
      "text/plain": [
       "<Figure size 360x360 with 1 Axes>"
      ]
     },
     "metadata": {
      "needs_background": "light"
     },
     "output_type": "display_data"
    }
   ],
   "source": [
    "sns.displot(x=\"DIFF\", data=traffic_changes)"
   ]
  }
 ],
 "metadata": {
  "kernelspec": {
   "display_name": "Python 3.8.2 64-bit ('commute': venv)",
   "language": "python",
   "name": "python38264bitcommutevenv1ffda8bc98494db0bca66f23d132b556"
  },
  "language_info": {
   "codemirror_mode": {
    "name": "ipython",
    "version": 3
   },
   "file_extension": ".py",
   "mimetype": "text/x-python",
   "name": "python",
   "nbconvert_exporter": "python",
   "pygments_lexer": "ipython3",
   "version": "3.8.2"
  }
 },
 "nbformat": 4,
 "nbformat_minor": 4
}