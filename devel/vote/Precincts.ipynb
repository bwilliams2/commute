{
 "cells": [
  {
   "cell_type": "code",
   "execution_count": null,
   "metadata": {},
   "outputs": [],
   "source": [
    "from pathlib import Path"
   ]
  },
  {
   "cell_type": "code",
   "execution_count": null,
   "metadata": {},
   "outputs": [],
   "source": [
    "import fiona\n",
    "data = fiona.open(\"../../data/shp_bdry_votingdistricts/bdry_votingdistricts_4326.shp\")\n",
    "data.schema"
   ]
  },
  {
   "cell_type": "code",
   "execution_count": null,
   "metadata": {},
   "outputs": [],
   "source": [
    "data[1]"
   ]
  },
  {
   "cell_type": "code",
   "execution_count": null,
   "metadata": {},
   "outputs": [],
   "source": [
    "import geopandas as gpd\n",
    "df = gpd.read_file(\"../../data/shp_bdry_votingdistricts/bdry_votingdistricts_4326.shp\")\n",
    "df.plot(figsize=[20,30])"
   ]
  },
  {
   "cell_type": "code",
   "execution_count": null,
   "metadata": {},
   "outputs": [],
   "source": [
    "file = Path(\"../../data/shp_bdry_counties_in_minnesota/mn_county_boundaries_500.shp\")\n",
    "data = gpd.read_file(file)\n",
    "reprojected = data.to_crs(\"EPSG:4326\")\n",
    "counties = [\"Anoka\", \"Carver\", \"Dakota\", \"Hennepin\", \"Ramsey\", \"Scott\", \"Washington\"]\n",
    "county_mask = reprojected[\"CTY_NAME\"].isin(counties)\n",
    "county_data = reprojected.loc[county_mask]\n",
    "county_data.plot()"
   ]
  },
  {
   "cell_type": "code",
   "execution_count": null,
   "metadata": {},
   "outputs": [],
   "source": [
    "from shapely import wkt\n",
    "from shapely.ops import cascaded_union\n",
    "tc_metro = cascaded_union(county_data.geometry)\n",
    "tc_metro"
   ]
  },
  {
   "cell_type": "code",
   "execution_count": null,
   "metadata": {},
   "outputs": [],
   "source": [
    "metro_districts = df.loc[df.geometry.apply(lambda x: tc_metro.contains(x))]\n",
    "metro_districts.geometry.boundary.plot(color=None,edgecolor='k',linewidth = 2)"
   ]
  },
  {
   "cell_type": "code",
   "execution_count": null,
   "metadata": {},
   "outputs": [],
   "source": [
    "#something looks off with this so I will just use bounds on the metro instead to reduce number of precincts to iterate through\n",
    "points = tc_metro.bounds\n",
    "bounds_polygon = f\"POLYGON(({points[0]} {points[1]}, {points[0]} {points[3]}, {points[2]} {points[3]}, {points[2]} {points[1]}, {points[0]} {points[1]}))\"\n",
    "bounds_polygon = wkt.loads(bounds_polygon)\n",
    "metro_districts = df.loc[df.geometry.apply(lambda x: bounds_polygon.contains(x))]\n",
    "metro_districts.geometry.boundary.plot(color=None,edgecolor='k',linewidth = 2)"
   ]
  },
  {
   "cell_type": "code",
   "execution_count": null,
   "metadata": {},
   "outputs": [],
   "source": [
    "files = [file.name for file in Path(\".\").glob(\"../../data/shp_bdry_electionresults_2012_2020/*4326.shp\")]\n",
    "import re\n",
    "print(files)\n",
    "print(re.findall(\"(20[0-9]{2,})\", files[0])[0])\n"
   ]
  },
  {
   "cell_type": "code",
   "execution_count": null,
   "metadata": {},
   "outputs": [],
   "source": [
    "# Election results\n",
    "import pandas as pd\n",
    "from pathlib import Path\n",
    "import glob\n",
    "import fiona\n",
    "for file in Path(\".\").glob(\"../../data/shp_bdry_electionresults_2012_2020/*4326.shp\"):\n",
    "    print(file.name + \"\\n\")\n",
    "    data = fiona.open(file)\n",
    "    # election_results = pd.read_excel(\"../../data/2020-general-federal-state-results-by-precinct-official.xlsx\", sheet_name='Precinct-Results', engine=\"openpyxl\")\n",
    "    # election_results = election_results.dropna(how=\"all\", axis=0).iloc[:-1]\n",
    "    print([key for key in data.schema[\"properties\"].keys() if \".\" in key])\n",
    "    if \"2016\" in file.name:\n",
    "        break"
   ]
  },
  {
   "cell_type": "code",
   "execution_count": null,
   "metadata": {},
   "outputs": [],
   "source": [
    "data[0][\"properties\"]"
   ]
  },
  {
   "cell_type": "code",
   "execution_count": null,
   "metadata": {},
   "outputs": [],
   "source": [
    "election_results[]"
   ]
  },
  {
   "cell_type": "code",
   "execution_count": null,
   "metadata": {},
   "outputs": [],
   "source": [
    "len(df)"
   ]
  },
  {
   "cell_type": "code",
   "execution_count": null,
   "metadata": {},
   "outputs": [],
   "source": [
    "import geopandas as gpd\n",
    "import pandas as pd\n",
    "df = gpd.read_file(\"../../data/shp_bdry_votingdistricts/bdry_votingdistricts_4326.shp\")\n",
    "df[\"PCTCODE\"] = pd.to_numeric(df[\"PCTCODE\"])\n",
    "cols_to_use = list(election_results.columns.difference(df.columns))\n",
    "\n",
    "merged = pd.merge(df, election_results[cols_to_use + [\"VTDID\"]], on=\"VTDID\", how=\"left\")\n",
    "merged = merged.set_crs(epsg=4326)\n",
    "def convert_code(code):\n",
    "    code = str(code)\n",
    "    return f\"0000{code}\"[-4:]\n",
    "merged[\"PCTCODE\"] = merged[\"PCTCODE\"].apply(convert_code)\n",
    "merged"
   ]
  },
  {
   "cell_type": "code",
   "execution_count": null,
   "metadata": {},
   "outputs": [],
   "source": [
    "merged = merged.drop(columns=\"TABMODEL.1\")"
   ]
  },
  {
   "cell_type": "code",
   "execution_count": null,
   "metadata": {},
   "outputs": [],
   "source": [
    "merged.to_file(\"../../data/shp_bdry_electionresults_2012_2020/general_election_results_by_precinct_2020_4326.shp\")"
   ]
  }
 ],
 "metadata": {
  "kernelspec": {
   "display_name": "Python 3",
   "language": "python",
   "name": "python3"
  },
  "language_info": {
   "codemirror_mode": {
    "name": "ipython",
    "version": 3
   },
   "file_extension": ".py",
   "mimetype": "text/x-python",
   "name": "python",
   "nbconvert_exporter": "python",
   "pygments_lexer": "ipython3",
   "version": "3.8.2-final"
  }
 },
 "nbformat": 4,
 "nbformat_minor": 4
}
