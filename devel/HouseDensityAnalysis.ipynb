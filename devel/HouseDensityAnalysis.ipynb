{
 "cells": [
  {
   "cell_type": "code",
   "execution_count": 1,
   "metadata": {},
   "outputs": [],
   "source": [
    "%load_ext autoreload\n",
    "%autoreload 2"
   ]
  },
  {
   "cell_type": "code",
   "execution_count": 1,
   "metadata": {},
   "outputs": [],
   "source": [
    "import pandas as pd\n",
    "import numpy as np\n",
    "import seaborn as sns\n",
    "import matplotlib.pyplot as plt\n",
    "from geotools.path_calc import address_search, get_metro_bounds\n",
    "from geotools.weighting import weighting_function\n"
   ]
  },
  {
   "cell_type": "code",
   "execution_count": 4,
   "metadata": {},
   "outputs": [],
   "source": [
    "metro_grid = pd.read_csv(\"metro_grid.csv\", sep=\";\")"
   ]
  },
  {
   "cell_type": "code",
   "execution_count": 6,
   "metadata": {},
   "outputs": [
    {
     "data": {
      "text/html": [
       "<div>\n",
       "<style scoped>\n",
       "    .dataframe tbody tr th:only-of-type {\n",
       "        vertical-align: middle;\n",
       "    }\n",
       "\n",
       "    .dataframe tbody tr th {\n",
       "        vertical-align: top;\n",
       "    }\n",
       "\n",
       "    .dataframe thead th {\n",
       "        text-align: right;\n",
       "    }\n",
       "</style>\n",
       "<table border=\"1\" class=\"dataframe\">\n",
       "  <thead>\n",
       "    <tr style=\"text-align: right;\">\n",
       "      <th></th>\n",
       "      <th>lon</th>\n",
       "      <th>lat</th>\n",
       "    </tr>\n",
       "  </thead>\n",
       "  <tbody>\n",
       "    <tr>\n",
       "      <th>0</th>\n",
       "      <td>-94.011000</td>\n",
       "      <td>44.471400</td>\n",
       "    </tr>\n",
       "    <tr>\n",
       "      <th>1</th>\n",
       "      <td>-94.002017</td>\n",
       "      <td>44.471400</td>\n",
       "    </tr>\n",
       "    <tr>\n",
       "      <th>2</th>\n",
       "      <td>-93.993034</td>\n",
       "      <td>44.471400</td>\n",
       "    </tr>\n",
       "    <tr>\n",
       "      <th>3</th>\n",
       "      <td>-94.011000</td>\n",
       "      <td>44.477810</td>\n",
       "    </tr>\n",
       "    <tr>\n",
       "      <th>4</th>\n",
       "      <td>-93.975067</td>\n",
       "      <td>44.471400</td>\n",
       "    </tr>\n",
       "    <tr>\n",
       "      <th>...</th>\n",
       "      <td>...</td>\n",
       "      <td>...</td>\n",
       "    </tr>\n",
       "    <tr>\n",
       "      <th>21302</th>\n",
       "      <td>-92.735392</td>\n",
       "      <td>45.387194</td>\n",
       "    </tr>\n",
       "    <tr>\n",
       "      <th>21303</th>\n",
       "      <td>-92.735392</td>\n",
       "      <td>45.393502</td>\n",
       "    </tr>\n",
       "    <tr>\n",
       "      <th>21304</th>\n",
       "      <td>-92.735392</td>\n",
       "      <td>45.399810</td>\n",
       "    </tr>\n",
       "    <tr>\n",
       "      <th>21305</th>\n",
       "      <td>-92.735392</td>\n",
       "      <td>45.406118</td>\n",
       "    </tr>\n",
       "    <tr>\n",
       "      <th>21306</th>\n",
       "      <td>-92.735392</td>\n",
       "      <td>45.412424</td>\n",
       "    </tr>\n",
       "  </tbody>\n",
       "</table>\n",
       "<p>21307 rows × 2 columns</p>\n",
       "</div>"
      ],
      "text/plain": [
       "             lon        lat\n",
       "0     -94.011000  44.471400\n",
       "1     -94.002017  44.471400\n",
       "2     -93.993034  44.471400\n",
       "3     -94.011000  44.477810\n",
       "4     -93.975067  44.471400\n",
       "...          ...        ...\n",
       "21302 -92.735392  45.387194\n",
       "21303 -92.735392  45.393502\n",
       "21304 -92.735392  45.399810\n",
       "21305 -92.735392  45.406118\n",
       "21306 -92.735392  45.412424\n",
       "\n",
       "[21307 rows x 2 columns]"
      ]
     },
     "execution_count": 6,
     "metadata": {},
     "output_type": "execute_result"
    }
   ],
   "source": [
    "metro_grid"
   ]
  },
  {
   "cell_type": "code",
   "execution_count": 5,
   "metadata": {},
   "outputs": [],
   "source": [
    "lat, lng = [45.147762, -93.134160]\n",
    "lng, lat = metro_grid.loc[10000,:]\n",
    "address_data = address_search(lng, lat, 5000.)"
   ]
  },
  {
   "cell_type": "code",
   "execution_count": 7,
   "metadata": {},
   "outputs": [
    {
     "data": {
      "text/html": [
       "<div>\n",
       "<style scoped>\n",
       "    .dataframe tbody tr th:only-of-type {\n",
       "        vertical-align: middle;\n",
       "    }\n",
       "\n",
       "    .dataframe tbody tr th {\n",
       "        vertical-align: top;\n",
       "    }\n",
       "\n",
       "    .dataframe thead th {\n",
       "        text-align: right;\n",
       "    }\n",
       "</style>\n",
       "<table border=\"1\" class=\"dataframe\">\n",
       "  <thead>\n",
       "    <tr style=\"text-align: right;\">\n",
       "      <th></th>\n",
       "      <th>COUNTY_PIN</th>\n",
       "      <th>STATE_PIN</th>\n",
       "      <th>ANUMBERPRE</th>\n",
       "      <th>ANUMBER</th>\n",
       "      <th>ANUMBERSUF</th>\n",
       "      <th>ST_PRE_MOD</th>\n",
       "      <th>ST_PRE_DIR</th>\n",
       "      <th>ST_PRE_TYP</th>\n",
       "      <th>ST_PRE_SEP</th>\n",
       "      <th>ST_NAME</th>\n",
       "      <th>...</th>\n",
       "      <th>SECTION</th>\n",
       "      <th>TOWNSHIP</th>\n",
       "      <th>RANGE</th>\n",
       "      <th>RANGE_DIR</th>\n",
       "      <th>PRIN_MER</th>\n",
       "      <th>PIN</th>\n",
       "      <th>VIEWID</th>\n",
       "      <th>LONGITUDE</th>\n",
       "      <th>LATITUDE</th>\n",
       "      <th>DISTANCE</th>\n",
       "    </tr>\n",
       "  </thead>\n",
       "  <tbody>\n",
       "    <tr>\n",
       "      <th>0</th>\n",
       "      <td>279240042</td>\n",
       "      <td>27139-279240042</td>\n",
       "      <td>None</td>\n",
       "      <td>2360</td>\n",
       "      <td>None</td>\n",
       "      <td>None</td>\n",
       "      <td>None</td>\n",
       "      <td>None</td>\n",
       "      <td>None</td>\n",
       "      <td>Muhlenhardt</td>\n",
       "      <td>...</td>\n",
       "      <td>24</td>\n",
       "      <td>115</td>\n",
       "      <td>22</td>\n",
       "      <td>0</td>\n",
       "      <td>0</td>\n",
       "      <td>139-279240042</td>\n",
       "      <td>5057775</td>\n",
       "      <td>-93.410</td>\n",
       "      <td>44.7568</td>\n",
       "      <td>3375.045113</td>\n",
       "    </tr>\n",
       "    <tr>\n",
       "      <th>1</th>\n",
       "      <td>279240040</td>\n",
       "      <td>27139-279240040</td>\n",
       "      <td>None</td>\n",
       "      <td>2350</td>\n",
       "      <td>None</td>\n",
       "      <td>None</td>\n",
       "      <td>None</td>\n",
       "      <td>None</td>\n",
       "      <td>None</td>\n",
       "      <td>Muhlenhardt</td>\n",
       "      <td>...</td>\n",
       "      <td>24</td>\n",
       "      <td>115</td>\n",
       "      <td>22</td>\n",
       "      <td>0</td>\n",
       "      <td>0</td>\n",
       "      <td>139-279240040</td>\n",
       "      <td>5057774</td>\n",
       "      <td>-93.409</td>\n",
       "      <td>44.7571</td>\n",
       "      <td>3390.225145</td>\n",
       "    </tr>\n",
       "    <tr>\n",
       "      <th>2</th>\n",
       "      <td>279240033</td>\n",
       "      <td>27139-279240033</td>\n",
       "      <td>None</td>\n",
       "      <td>2560</td>\n",
       "      <td>None</td>\n",
       "      <td>None</td>\n",
       "      <td>None</td>\n",
       "      <td>None</td>\n",
       "      <td>None</td>\n",
       "      <td>Muhlenhardt</td>\n",
       "      <td>...</td>\n",
       "      <td>24</td>\n",
       "      <td>115</td>\n",
       "      <td>22</td>\n",
       "      <td>0</td>\n",
       "      <td>0</td>\n",
       "      <td>139-279240033</td>\n",
       "      <td>5057765</td>\n",
       "      <td>-93.411</td>\n",
       "      <td>44.7542</td>\n",
       "      <td>3115.588215</td>\n",
       "    </tr>\n",
       "    <tr>\n",
       "      <th>3</th>\n",
       "      <td>279240030</td>\n",
       "      <td>27139-279240030</td>\n",
       "      <td>None</td>\n",
       "      <td>2450</td>\n",
       "      <td>None</td>\n",
       "      <td>None</td>\n",
       "      <td>None</td>\n",
       "      <td>None</td>\n",
       "      <td>None</td>\n",
       "      <td>Muhlenhardt</td>\n",
       "      <td>...</td>\n",
       "      <td>24</td>\n",
       "      <td>115</td>\n",
       "      <td>22</td>\n",
       "      <td>0</td>\n",
       "      <td>0</td>\n",
       "      <td>139-279240030</td>\n",
       "      <td>5057756</td>\n",
       "      <td>-93.412</td>\n",
       "      <td>44.7558</td>\n",
       "      <td>3308.449559</td>\n",
       "    </tr>\n",
       "    <tr>\n",
       "      <th>4</th>\n",
       "      <td>279240022</td>\n",
       "      <td>27139-279240022</td>\n",
       "      <td>None</td>\n",
       "      <td>7802</td>\n",
       "      <td>None</td>\n",
       "      <td>None</td>\n",
       "      <td>None</td>\n",
       "      <td>None</td>\n",
       "      <td>None</td>\n",
       "      <td>Horizon</td>\n",
       "      <td>...</td>\n",
       "      <td>24</td>\n",
       "      <td>115</td>\n",
       "      <td>22</td>\n",
       "      <td>0</td>\n",
       "      <td>0</td>\n",
       "      <td>139-279240022</td>\n",
       "      <td>5057755</td>\n",
       "      <td>-93.418</td>\n",
       "      <td>44.7597</td>\n",
       "      <td>3873.174826</td>\n",
       "    </tr>\n",
       "    <tr>\n",
       "      <th>...</th>\n",
       "      <td>...</td>\n",
       "      <td>...</td>\n",
       "      <td>...</td>\n",
       "      <td>...</td>\n",
       "      <td>...</td>\n",
       "      <td>...</td>\n",
       "      <td>...</td>\n",
       "      <td>...</td>\n",
       "      <td>...</td>\n",
       "      <td>...</td>\n",
       "      <td>...</td>\n",
       "      <td>...</td>\n",
       "      <td>...</td>\n",
       "      <td>...</td>\n",
       "      <td>...</td>\n",
       "      <td>...</td>\n",
       "      <td>...</td>\n",
       "      <td>...</td>\n",
       "      <td>...</td>\n",
       "      <td>...</td>\n",
       "      <td>...</td>\n",
       "    </tr>\n",
       "    <tr>\n",
       "      <th>18755</th>\n",
       "      <td>040050040</td>\n",
       "      <td>27139-040050040</td>\n",
       "      <td>None</td>\n",
       "      <td>0</td>\n",
       "      <td>None</td>\n",
       "      <td>None</td>\n",
       "      <td>None</td>\n",
       "      <td>None</td>\n",
       "      <td>None</td>\n",
       "      <td>None</td>\n",
       "      <td>...</td>\n",
       "      <td>0</td>\n",
       "      <td>0</td>\n",
       "      <td>0</td>\n",
       "      <td>0</td>\n",
       "      <td>0</td>\n",
       "      <td>139-040050040</td>\n",
       "      <td>5005414</td>\n",
       "      <td>-93.393</td>\n",
       "      <td>44.7163</td>\n",
       "      <td>1342.297002</td>\n",
       "    </tr>\n",
       "    <tr>\n",
       "      <th>18756</th>\n",
       "      <td>040050020</td>\n",
       "      <td>27139-040050020</td>\n",
       "      <td>None</td>\n",
       "      <td>0</td>\n",
       "      <td>None</td>\n",
       "      <td>None</td>\n",
       "      <td>None</td>\n",
       "      <td>None</td>\n",
       "      <td>None</td>\n",
       "      <td>None</td>\n",
       "      <td>...</td>\n",
       "      <td>0</td>\n",
       "      <td>0</td>\n",
       "      <td>0</td>\n",
       "      <td>0</td>\n",
       "      <td>0</td>\n",
       "      <td>139-040050020</td>\n",
       "      <td>5005413</td>\n",
       "      <td>-93.396</td>\n",
       "      <td>44.7166</td>\n",
       "      <td>1228.448022</td>\n",
       "    </tr>\n",
       "    <tr>\n",
       "      <th>18757</th>\n",
       "      <td>040050011</td>\n",
       "      <td>27139-040050011</td>\n",
       "      <td>None</td>\n",
       "      <td>6146</td>\n",
       "      <td>None</td>\n",
       "      <td>None</td>\n",
       "      <td>None</td>\n",
       "      <td>None</td>\n",
       "      <td>None</td>\n",
       "      <td>White</td>\n",
       "      <td>...</td>\n",
       "      <td>0</td>\n",
       "      <td>0</td>\n",
       "      <td>0</td>\n",
       "      <td>0</td>\n",
       "      <td>0</td>\n",
       "      <td>139-040050011</td>\n",
       "      <td>5005412</td>\n",
       "      <td>-93.395</td>\n",
       "      <td>44.7163</td>\n",
       "      <td>1283.529356</td>\n",
       "    </tr>\n",
       "    <tr>\n",
       "      <th>18758</th>\n",
       "      <td>040040010</td>\n",
       "      <td>27139-040040010</td>\n",
       "      <td>None</td>\n",
       "      <td>6445</td>\n",
       "      <td>None</td>\n",
       "      <td>None</td>\n",
       "      <td>None</td>\n",
       "      <td>None</td>\n",
       "      <td>None</td>\n",
       "      <td>White</td>\n",
       "      <td>...</td>\n",
       "      <td>0</td>\n",
       "      <td>0</td>\n",
       "      <td>0</td>\n",
       "      <td>0</td>\n",
       "      <td>0</td>\n",
       "      <td>139-040040010</td>\n",
       "      <td>5005411</td>\n",
       "      <td>-93.389</td>\n",
       "      <td>44.7155</td>\n",
       "      <td>1576.497825</td>\n",
       "    </tr>\n",
       "    <tr>\n",
       "      <th>18759</th>\n",
       "      <td>040030010</td>\n",
       "      <td>27139-040030010</td>\n",
       "      <td>None</td>\n",
       "      <td>6315</td>\n",
       "      <td>None</td>\n",
       "      <td>None</td>\n",
       "      <td>None</td>\n",
       "      <td>None</td>\n",
       "      <td>None</td>\n",
       "      <td>160th</td>\n",
       "      <td>...</td>\n",
       "      <td>0</td>\n",
       "      <td>0</td>\n",
       "      <td>0</td>\n",
       "      <td>0</td>\n",
       "      <td>0</td>\n",
       "      <td>139-040030010</td>\n",
       "      <td>5005410</td>\n",
       "      <td>-93.392</td>\n",
       "      <td>44.7169</td>\n",
       "      <td>1319.050494</td>\n",
       "    </tr>\n",
       "  </tbody>\n",
       "</table>\n",
       "<p>18760 rows × 96 columns</p>\n",
       "</div>"
      ],
      "text/plain": [
       "      COUNTY_PIN        STATE_PIN ANUMBERPRE  ANUMBER ANUMBERSUF ST_PRE_MOD  \\\n",
       "0      279240042  27139-279240042       None     2360       None       None   \n",
       "1      279240040  27139-279240040       None     2350       None       None   \n",
       "2      279240033  27139-279240033       None     2560       None       None   \n",
       "3      279240030  27139-279240030       None     2450       None       None   \n",
       "4      279240022  27139-279240022       None     7802       None       None   \n",
       "...          ...              ...        ...      ...        ...        ...   \n",
       "18755  040050040  27139-040050040       None        0       None       None   \n",
       "18756  040050020  27139-040050020       None        0       None       None   \n",
       "18757  040050011  27139-040050011       None     6146       None       None   \n",
       "18758  040040010  27139-040040010       None     6445       None       None   \n",
       "18759  040030010  27139-040030010       None     6315       None       None   \n",
       "\n",
       "      ST_PRE_DIR ST_PRE_TYP ST_PRE_SEP      ST_NAME  ... SECTION TOWNSHIP  \\\n",
       "0           None       None       None  Muhlenhardt  ...      24      115   \n",
       "1           None       None       None  Muhlenhardt  ...      24      115   \n",
       "2           None       None       None  Muhlenhardt  ...      24      115   \n",
       "3           None       None       None  Muhlenhardt  ...      24      115   \n",
       "4           None       None       None      Horizon  ...      24      115   \n",
       "...          ...        ...        ...          ...  ...     ...      ...   \n",
       "18755       None       None       None         None  ...       0        0   \n",
       "18756       None       None       None         None  ...       0        0   \n",
       "18757       None       None       None        White  ...       0        0   \n",
       "18758       None       None       None        White  ...       0        0   \n",
       "18759       None       None       None        160th  ...       0        0   \n",
       "\n",
       "      RANGE RANGE_DIR PRIN_MER            PIN   VIEWID LONGITUDE LATITUDE  \\\n",
       "0        22         0        0  139-279240042  5057775   -93.410  44.7568   \n",
       "1        22         0        0  139-279240040  5057774   -93.409  44.7571   \n",
       "2        22         0        0  139-279240033  5057765   -93.411  44.7542   \n",
       "3        22         0        0  139-279240030  5057756   -93.412  44.7558   \n",
       "4        22         0        0  139-279240022  5057755   -93.418  44.7597   \n",
       "...     ...       ...      ...            ...      ...       ...      ...   \n",
       "18755     0         0        0  139-040050040  5005414   -93.393  44.7163   \n",
       "18756     0         0        0  139-040050020  5005413   -93.396  44.7166   \n",
       "18757     0         0        0  139-040050011  5005412   -93.395  44.7163   \n",
       "18758     0         0        0  139-040040010  5005411   -93.389  44.7155   \n",
       "18759     0         0        0  139-040030010  5005410   -93.392  44.7169   \n",
       "\n",
       "          DISTANCE  \n",
       "0      3375.045113  \n",
       "1      3390.225145  \n",
       "2      3115.588215  \n",
       "3      3308.449559  \n",
       "4      3873.174826  \n",
       "...            ...  \n",
       "18755  1342.297002  \n",
       "18756  1228.448022  \n",
       "18757  1283.529356  \n",
       "18758  1576.497825  \n",
       "18759  1319.050494  \n",
       "\n",
       "[18760 rows x 96 columns]"
      ]
     },
     "execution_count": 7,
     "metadata": {},
     "output_type": "execute_result"
    }
   ],
   "source": [
    "address_data"
   ]
  },
  {
   "cell_type": "code",
   "execution_count": 25,
   "metadata": {},
   "outputs": [],
   "source": [
    "df = address_data\n",
    "class_weights = {\n",
    "    'AGRICULTURAL': 0.5,\n",
    "    'APARTMENTS / COOP': 10,\n",
    "    'COMMERCIAL / GOLF COURSE': 1,\n",
    "    'CONDOMINIUMS': 5,\n",
    "    'DOUBLE BUNGALOWS': 3,\n",
    "    'INDUSTRIAL': 3,\n",
    "    'MANUFACTURED HOME PARK': 10,\n",
    "    None: 0,\n",
    "    'RESIDENTIAL DUPLEXES': 3,\n",
    "    'RESIDENTIAL SINGLE FAMILY': 2,\n",
    "    'SEASONAL RECREATIONAL': 1,\n",
    "    'TAX FORFEIT': 0,\n",
    "    'UTILITY PROPERTY': 0\n",
    "}\n",
    "class_weights = {\n",
    "    '100 Res 1 unit': 2,\n",
    "    '105 Res 2-3 units': 2.5,\n",
    "    '110 Apt 4+ units': 6,\n",
    "#     '125 SRR',\n",
    "#     '140 Res V Land',\n",
    "#     '200 Agricultural',\n",
    "#     '211 Rural Vacant Land',\n",
    "    '300 Commercial': 2,\n",
    "    '305 Industrial': 1.5,\n",
    "#     '320 Q Golf Course',\n",
    "    '901 Schools-Public': 1,\n",
    "#     '911 Cemetery-Public',\n",
    "#     '912 Cemetery-Private',\n",
    "#     '915 Church',\n",
    "#     '916 Church-Residence',\n",
    "#     '917 Church-Other Res',\n",
    "#     '918 Church - Other',\n",
    "#     '925 Trans Housing',\n",
    "#     '931 Charit Inst',\n",
    "#     '940 Wetlands',\n",
    "#     '941 ForestParkRefuge',\n",
    "#     '942 Indian Resrv',\n",
    "#     '951 Federal Property',\n",
    "#     '952 State Property',\n",
    "#     '955 Co Srvc Other',\n",
    "#     '956 Muni Srvc Ent',\n",
    "#     '958 Muni Srvc Other',\n",
    "#     '962 T E Misc Co D 3',\n",
    "#     '981 State Acquired',\n",
    "#     '982 State Admin-DNR',\n",
    "#     '983 Co Admin-TaxForf',\n",
    "#     '990 InLieuTx Co D 1',\n",
    "}\n",
    "\n",
    "year_weights = lambda x: np.exp((x - 2020) / 10)\n",
    "use_weight = df[\"USECLASS1\"].map(lambda x: class_weights.get(x, 0)).values\n",
    "d = use_weight * year_weights(df[\"YEAR_BUILT\"].values)"
   ]
  },
  {
   "cell_type": "code",
   "execution_count": 20,
   "metadata": {},
   "outputs": [
    {
     "data": {
      "text/plain": [
       "{'100 Res 1 unit',\n",
       " '105 Res 2-3 units',\n",
       " '110 Apt 4+ units',\n",
       " '125 SRR',\n",
       " '140 Res V Land',\n",
       " '200 Agricultural',\n",
       " '211 Rural Vacant Land',\n",
       " '300 Commercial',\n",
       " '305 Industrial',\n",
       " '320 Q Golf Course',\n",
       " '901 Schools-Public',\n",
       " '911 Cemetery-Public',\n",
       " '912 Cemetery-Private',\n",
       " '915 Church',\n",
       " '916 Church-Residence',\n",
       " '917 Church-Other Res',\n",
       " '918 Church - Other',\n",
       " '925 Trans Housing',\n",
       " '931 Charit Inst',\n",
       " '940 Wetlands',\n",
       " '941 ForestParkRefuge',\n",
       " '942 Indian Resrv',\n",
       " '951 Federal Property',\n",
       " '952 State Property',\n",
       " '955 Co Srvc Other',\n",
       " '956 Muni Srvc Ent',\n",
       " '958 Muni Srvc Other',\n",
       " '962 T E Misc Co D 3',\n",
       " '981 State Acquired',\n",
       " '982 State Admin-DNR',\n",
       " '983 Co Admin-TaxForf',\n",
       " '990 InLieuTx Co D 1',\n",
       " None}"
      ]
     },
     "execution_count": 20,
     "metadata": {},
     "output_type": "execute_result"
    }
   ],
   "source": [
    "from functools import reduce\n",
    "# reduceaddress_data[\"USECLASS1\"].unique()\n",
    "use_classes = list(reduce(lambda a, b: a + b, [address_data[f\"USECLASS{i}\"].unique().tolist() for i in range(1,5)]))\n",
    "set(use_classes)"
   ]
  },
  {
   "cell_type": "code",
   "execution_count": 29,
   "metadata": {},
   "outputs": [],
   "source": [
    "class_weights = {\n",
    "    'AGRICULTURAL': 0.5,\n",
    "    'APARTMENTS / COOP': 10,\n",
    "    'COMMERCIAL / GOLF COURSE': 1,\n",
    "    'CONDOMINIUMS': 5,\n",
    "    'DOUBLE BUNGALOWS': 3,\n",
    "    'INDUSTRIAL': 3,\n",
    "    'MANUFACTURED HOME PARK': 10,\n",
    "     None: 0,\n",
    "    'RESIDENTIAL DUPLEXES': 3,\n",
    "    'RESIDENTIAL SINGLE FAMILY': 2,\n",
    "    'SEASONAL RECREATIONAL': 1,\n",
    "    'TAX FORFEIT': 0,\n",
    "    'UTILITY PROPERTY': 0\n",
    "}"
   ]
  },
  {
   "cell_type": "code",
   "execution_count": 31,
   "metadata": {},
   "outputs": [
    {
     "data": {
      "image/png": "[encoded data removed]",
      "text/plain": [
       "<Figure size 432x288 with 1 Axes>"
      ]
     },
     "metadata": {
      "needs_background": "light"
     },
     "output_type": "display_data"
    }
   ],
   "source": [
    "x = np.linspace(1950, 2020, 1000)\n",
    "year_weights = lambda x: np.exp((x - 2020) / 10)\n",
    "fig, ax = plt.subplots()\n",
    "ax.plot(x, year_weights(x), \"--\")\n",
    "plt.show()"
   ]
  },
  {
   "cell_type": "code",
   "execution_count": 32,
   "metadata": {},
   "outputs": [],
   "source": [
    "def weighting_function(df):\n",
    "    use_weight = df[\"USECLASS1\"].map(class_weights)\n",
    "    return use_weight * year_weights(df[\"YEAR_BUILT\"])"
   ]
  },
  {
   "cell_type": "code",
   "execution_count": 33,
   "metadata": {},
   "outputs": [],
   "source": [
    "address_data[\"WEIGHT\"] = weighting_function(address_data)"
   ]
  },
  {
   "cell_type": "code",
   "execution_count": 37,
   "metadata": {},
   "outputs": [
    {
     "data": {
      "text/plain": [
       "<matplotlib.axes._subplots.AxesSubplot at 0x7f2d2d38a910>"
      ]
     },
     "execution_count": 37,
     "metadata": {},
     "output_type": "execute_result"
    },
    {
     "data": {
      "image/png": "[encoded data removed]",
      "text/plain": [
       "<Figure size 432x288 with 1 Axes>"
      ]
     },
     "metadata": {
      "needs_background": "light"
     },
     "output_type": "display_data"
    }
   ],
   "source": [
    "sns.histplot(address_data[\"WEIGHT\"])"
   ]
  },
  {
   "cell_type": "code",
   "execution_count": 38,
   "metadata": {},
   "outputs": [
    {
     "data": {
      "text/plain": [
       "<matplotlib.axes._subplots.AxesSubplot at 0x7f2d3189e4f0>"
      ]
     },
     "execution_count": 38,
     "metadata": {},
     "output_type": "execute_result"
    },
    {
     "data": {
      "image/png": "[encoded data removed]",
      "text/plain": [
       "<Figure size 432x288 with 1 Axes>"
      ]
     },
     "metadata": {
      "needs_background": "light"
     },
     "output_type": "display_data"
    }
   ],
   "source": [
    "sns.scatterplot(y=\"WEIGHT\", x=\"DISTANCE\", data=address_data)"
   ]
  },
  {
   "cell_type": "code",
   "execution_count": 9,
   "metadata": {},
   "outputs": [
    {
     "data": {
      "text/plain": [
       "Index(['COUNTY_PIN', 'STATE_PIN', 'ANUMBERPRE', 'ANUMBER', 'ANUMBERSUF',\n",
       "       'ST_PRE_MOD', 'ST_PRE_DIR', 'ST_PRE_TYP', 'ST_PRE_SEP', 'ST_NAME',\n",
       "       'ST_POS_TYP', 'ST_POS_DIR', 'ST_POS_MOD', 'SUB_TYPE1', 'SUB_ID1',\n",
       "       'SUB_TYPE2', 'SUB_ID2', 'ZIP', 'ZIP4', 'CTU_NAME', 'CTU_ID_TXT',\n",
       "       'POSTCOMM', 'CO_CODE', 'CO_NAME', 'STATE_CODE', 'LOT', 'BLOCK',\n",
       "       'PLAT_NAME', 'OWNER_NAME', 'OWNER_MORE', 'OWN_ADD_L1', 'OWN_ADD_L2',\n",
       "       'OWN_ADD_L3', 'OWN_ADD_L4', 'TAX_NAME', 'TAX_ADD_L1', 'TAX_ADD_L2',\n",
       "       'TAX_ADD_L3', 'TAX_ADD_L4', 'LANDMARK', 'HOMESTEAD', 'ACRES_POLY',\n",
       "       'ACRES_DEED', 'EMV_LAND', 'EMV_BLDG', 'EMV_TOTAL', 'TAX_YEAR',\n",
       "       'MKT_YEAR', 'TAX_CAPAC', 'TOTAL_TAX', 'SPEC_ASSES', 'USECLASS1',\n",
       "       'USECLASS2', 'USECLASS3', 'USECLASS4', 'MULTI_USES', 'TAX_EXEMPT',\n",
       "       'XUSECLASS1', 'XUSECLASS2', 'XUSECLASS3', 'XUSECLASS4', 'DWELL_TYPE',\n",
       "       'HOME_STYLE', 'FIN_SQ_FT', 'GARAGE', 'GARAGESQFT', 'BASEMENT',\n",
       "       'HEATING', 'COOLING', 'YEAR_BUILT', 'NUM_UNITS', 'SALE_DATE',\n",
       "       'SALE_VALUE', 'GREEN_ACRE', 'OPEN_SPACE', 'AG_PRESERV', 'AGPRE_ENRD',\n",
       "       'AGPRE_EXPD', 'ABB_LEGAL', 'EDIT_DATE', 'EXP_DATE', 'POLYPTREL',\n",
       "       'N_STANDARD', 'OWNERSHIP', 'SCHOOL_DST', 'WSHD_DST', 'SECTION',\n",
       "       'TOWNSHIP', 'RANGE', 'RANGE_DIR', 'PRIN_MER', 'PIN', 'VIEWID',\n",
       "       'LONGITUDE', 'LATITUDE', 'DISTANCE'],\n",
       "      dtype='object')"
      ]
     },
     "execution_count": 9,
     "metadata": {},
     "output_type": "execute_result"
    }
   ],
   "source": [
    "address_data[\"WEIGHT\"] = address_data[\"USECLASS1\"].apply(lambda x: class_weights[x]) *\n"
   ]
  },
  {
   "cell_type": "code",
   "execution_count": 11,
   "metadata": {},
   "outputs": [
    {
     "data": {
      "text/plain": [
       "array([   0, 1882, 1886, 1890, 1892, 1894, 1900, 1901, 1902, 1904, 1910,\n",
       "       1912, 1913, 1914, 1917, 1920, 1924, 1925, 1928, 1929, 1930, 1932,\n",
       "       1934, 1935, 1936, 1938, 1939, 1940, 1941, 1942, 1943, 1945, 1946,\n",
       "       1947, 1948, 1949, 1950, 1951, 1952, 1953, 1954, 1955, 1956, 1957,\n",
       "       1958, 1959, 1960, 1961, 1962, 1963, 1964, 1965, 1966, 1967, 1968,\n",
       "       1969, 1970, 1971, 1972, 1973, 1974, 1975, 1976, 1977, 1978, 1979,\n",
       "       1980, 1981, 1982, 1983, 1984, 1985, 1986, 1987, 1988, 1989, 1990,\n",
       "       1991, 1992, 1993, 1994, 1995, 1996, 1997, 1998, 1999, 2000, 2001,\n",
       "       2002, 2003, 2004, 2005, 2006, 2007, 2008, 2009, 2010, 2011, 2012,\n",
       "       2013, 2014, 2015, 2016, 2017, 2018, 2019])"
      ]
     },
     "execution_count": 11,
     "metadata": {},
     "output_type": "execute_result"
    }
   ],
   "source": [
    "np.unique(address_data[\"YEAR_BUILT\"])"
   ]
  },
  {
   "cell_type": "code",
   "execution_count": 37,
   "metadata": {},
   "outputs": [
    {
     "data": {
      "text/plain": [
       "<matplotlib.axes._subplots.AxesSubplot at 0x7fd35fa2e0a0>"
      ]
     },
     "execution_count": 37,
     "metadata": {},
     "output_type": "execute_result"
    },
    {
     "data": {
      "image/png": "[encoded data removed]",
      "text/plain": [
       "<Figure size 432x288 with 1 Axes>"
      ]
     },
     "metadata": {
      "needs_background": "light"
     },
     "output_type": "display_data"
    }
   ],
   "source": [
    "new_mask = address_data[\"YEAR_BUILT\"] > 0\n",
    "address_data.loc[new_mask].plot.scatter(y=\"WEIGHT\", x=\"YEAR_BUILT\")"
   ]
  },
  {
   "cell_type": "code",
   "execution_count": null,
   "metadata": {},
   "outputs": [],
   "source": []
  }
 ],
 "metadata": {
  "kernelspec": {
   "display_name": "Python 3.8.2 64-bit ('commute': venv)",
   "language": "python",
   "name": "python38264bitcommutevenv1ffda8bc98494db0bca66f23d132b556"
  },
  "language_info": {
   "codemirror_mode": {
    "name": "ipython",
    "version": 3
   },
   "file_extension": ".py",
   "mimetype": "text/x-python",
   "name": "python",
   "nbconvert_exporter": "python",
   "pygments_lexer": "ipython3",
   "version": "3.8.2"
  }
 },
 "nbformat": 4,
 "nbformat_minor": 4
}
