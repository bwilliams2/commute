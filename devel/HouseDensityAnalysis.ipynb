{
 "cells": [
  {
   "cell_type": "code",
   "execution_count": 18,
   "metadata": {},
   "outputs": [],
   "source": [
    "import pandas as pd\n",
    "import numpy as np\n",
    "import seaborn as sns\n",
    "import matplotlib.pyplot as plt\n",
    "from backend.geotools.path_calc import address_search\n",
    "\n"
   ]
  },
  {
   "cell_type": "code",
   "execution_count": 7,
   "metadata": {},
   "outputs": [],
   "source": [
    "from backend.geotools.path_calc import address_search\n",
    "\n",
    "lat, lng = [45.147762, -93.134160]\n",
    "address_data = address_search(lng, lat, 5000.)"
   ]
  },
  {
   "cell_type": "code",
   "execution_count": 8,
   "metadata": {},
   "outputs": [
    {
     "data": {
      "text/plain": [
       "{'AGRICULTURAL',\n",
       " 'APARTMENTS / COOP',\n",
       " 'COMMERCIAL / GOLF COURSE',\n",
       " 'CONDOMINIUMS',\n",
       " 'DOUBLE BUNGALOWS',\n",
       " 'INDUSTRIAL',\n",
       " 'MANUFACTURED HOME PARK',\n",
       " None,\n",
       " 'RESIDENTIAL DUPLEXES',\n",
       " 'RESIDENTIAL SINGLE FAMILY',\n",
       " 'SEASONAL RECREATIONAL',\n",
       " 'TAX FORFEIT',\n",
       " 'UTILITY PROPERTY'}"
      ]
     },
     "execution_count": 8,
     "metadata": {},
     "output_type": "execute_result"
    }
   ],
   "source": [
    "from functools import reduce\n",
    "# reduceaddress_data[\"USECLASS1\"].unique()\n",
    "use_classes = list(reduce(lambda a, b: a + b, [address_data[f\"USECLASS{i}\"].unique().tolist() for i in range(1,5)]))\n",
    "set(use_classes)"
   ]
  },
  {
   "cell_type": "code",
   "execution_count": 13,
   "metadata": {},
   "outputs": [
    {
     "data": {
      "text/plain": [
       "{None: 'd'}"
      ]
     },
     "execution_count": 13,
     "metadata": {},
     "output_type": "execute_result"
    }
   ],
   "source": [
    "{None: \"d\"}"
   ]
  },
  {
   "cell_type": "code",
   "execution_count": 17,
   "metadata": {},
   "outputs": [],
   "source": [
    "class_weights = {\n",
    "    'AGRICULTURAL': 0.5,\n",
    "    'APARTMENTS / COOP': 10,\n",
    "    'COMMERCIAL / GOLF COURSE': 1,\n",
    "    'CONDOMINIUMS': 5,\n",
    "    'DOUBLE BUNGALOWS': 3,\n",
    "    'INDUSTRIAL': 3,\n",
    "    'MANUFACTURED HOME PARK': 10,\n",
    "     None: 0,\n",
    "    'RESIDENTIAL DUPLEXES': 3,\n",
    "    'RESIDENTIAL SINGLE FAMILY': 2,\n",
    "    'SEASONAL RECREATIONAL': 1,\n",
    "    'TAX FORFEIT': 0,\n",
    "    'UTILITY PROPERTY': 0\n",
    "}"
   ]
  },
  {
   "cell_type": "code",
   "execution_count": 16,
   "metadata": {},
   "outputs": [
    {
     "data": {
      "text/plain": [
       "array(['AGRICULTURAL', 'RESIDENTIAL SINGLE FAMILY',\n",
       "       'COMMERCIAL / GOLF COURSE', 'TAX FORFEIT', 'RESIDENTIAL DUPLEXES',\n",
       "       'MANUFACTURED HOME PARK', 'APARTMENTS / COOP', 'CONDOMINIUMS',\n",
       "       'UTILITY PROPERTY', 'INDUSTRIAL'], dtype=object)"
      ]
     },
     "execution_count": 16,
     "metadata": {},
     "output_type": "execute_result"
    }
   ],
   "source": [
    "pd.unique(address_data[\"USECLASS1\"])"
   ]
  },
  {
   "cell_type": "code",
   "execution_count": 25,
   "metadata": {},
   "outputs": [
    {
     "data": {
      "image/png": "[encoded data removed]",
      "text/plain": [
       "<Figure size 432x288 with 1 Axes>"
      ]
     },
     "metadata": {
      "needs_background": "light"
     },
     "output_type": "display_data"
    }
   ],
   "source": [
    "x = np.linspace(1950, 2020, 1000)\n",
    "year_weights = lambda x: np.exp((x - 2020) / 10)\n",
    "fig, ax = plt.subplots()\n",
    "ax.plot(x, year_weights(x), \"--\")\n",
    "plt.show()"
   ]
  },
  {
   "cell_type": "code",
   "execution_count": 33,
   "metadata": {},
   "outputs": [],
   "source": [
    "def weighting_function(df):\n",
    "    use_weight = df[\"USECLASS1\"].map(class_weights)\n",
    "    return use_weight * year_weights(df[\"YEAR_BUILT\"])"
   ]
  },
  {
   "cell_type": "code",
   "execution_count": 36,
   "metadata": {},
   "outputs": [
    {
     "name": "stdout",
     "output_type": "stream",
     "text": [
      "         COUNTY_PIN           STATE_PIN ANUMBERPRE  ANUMBER ANUMBERSUF  \\\n",
      "0      363123440053  27003-363123440053       None        0       None   \n",
      "1      363123440052  27003-363123440052       None        0       None   \n",
      "2      363123440051  27003-363123440051       None      110       None   \n",
      "3      363123440050  27003-363123440050       None      108       None   \n",
      "4      363123440049  27003-363123440049       None      106       None   \n",
      "...             ...                 ...        ...      ...        ...   \n",
      "10879  073122140006  27003-073122140006       None      379       None   \n",
      "10880  073122140003  27003-073122140003       None     7861       None   \n",
      "10881  073122140002  27003-073122140002       None     7865       None   \n",
      "10882  073122140001  27003-073122140001       None      345       None   \n",
      "10883  073122130001  27003-073122130001       None        0       None   \n",
      "\n",
      "      ST_PRE_MOD ST_PRE_DIR ST_PRE_TYP ST_PRE_SEP       ST_NAME  ... SECTION  \\\n",
      "0           None       None       None       None          None  ...      36   \n",
      "1           None       None       None       None          None  ...      36   \n",
      "2           None       None       None       None  Indian Hills  ...      36   \n",
      "3           None       None       None       None  Indian Hills  ...      36   \n",
      "4           None       None       None       None  Indian Hills  ...      36   \n",
      "...          ...        ...        ...        ...           ...  ...     ...   \n",
      "10879       None       None       None       None          Carl  ...       7   \n",
      "10880       None       None       None       None           4Th  ...       7   \n",
      "10881       None       None       None       None           4Th  ...       7   \n",
      "10882       None       None       None       None          Carl  ...       7   \n",
      "10883       None       None       None       None          None  ...       7   \n",
      "\n",
      "      TOWNSHIP RANGE RANGE_DIR PRIN_MER               PIN  VIEWID LONGITUDE  \\\n",
      "0           31    23         0        0  003-363123440053  125275   -93.144   \n",
      "1           31    23         0        0  003-363123440052  126203   -93.146   \n",
      "2           31    23         0        0  003-363123440051  123337   -93.148   \n",
      "3           31    23         0        0  003-363123440050  123398   -93.148   \n",
      "4           31    23         0        0  003-363123440049  123017   -93.147   \n",
      "...        ...   ...       ...      ...               ...     ...       ...   \n",
      "10879       31    22         0        0  003-073122140006   30667   -93.124   \n",
      "10880       31    22         0        0  003-073122140003   21319   -93.123   \n",
      "10881       31    22         0        0  003-073122140002   26509   -93.125   \n",
      "10882       31    22         0        0  003-073122140001   25919   -93.126   \n",
      "10883       31    22         0        0  003-073122130001   25918   -93.130   \n",
      "\n",
      "      LATITUDE     DISTANCE  \n",
      "0      45.1268  2454.813942  \n",
      "1      45.1255  2643.560843  \n",
      "2      45.1255  2702.996899  \n",
      "3      45.1253  2723.356785  \n",
      "4      45.1251  2713.496380  \n",
      "...        ...          ...  \n",
      "10879  45.1903  4794.463256  \n",
      "10880  45.1916  4950.303900  \n",
      "10881  45.1922  4990.844040  \n",
      "10882  45.1903  4770.789562  \n",
      "10883  45.1911  4827.462627  \n",
      "\n",
      "[10884 rows x 96 columns]\n"
     ]
    }
   ],
   "source": [
    "address_data[\"WEIGHT\"] = weighting_function(address_data)"
   ]
  },
  {
   "cell_type": "code",
   "execution_count": 37,
   "metadata": {},
   "outputs": [
    {
     "data": {
      "text/plain": [
       "<matplotlib.axes._subplots.AxesSubplot at 0x7f2d2d38a910>"
      ]
     },
     "execution_count": 37,
     "metadata": {},
     "output_type": "execute_result"
    },
    {
     "data": {
      "image/png": "[encoded data removed]",
      "text/plain": [
       "<Figure size 432x288 with 1 Axes>"
      ]
     },
     "metadata": {
      "needs_background": "light"
     },
     "output_type": "display_data"
    }
   ],
   "source": [
    "sns.histplot(address_data[\"WEIGHT\"])"
   ]
  },
  {
   "cell_type": "code",
   "execution_count": 38,
   "metadata": {},
   "outputs": [
    {
     "data": {
      "text/plain": [
       "<matplotlib.axes._subplots.AxesSubplot at 0x7f2d3189e4f0>"
      ]
     },
     "execution_count": 38,
     "metadata": {},
     "output_type": "execute_result"
    },
    {
     "data": {
      "image/png": "[encoded data removed]",
      "text/plain": [
       "<Figure size 432x288 with 1 Axes>"
      ]
     },
     "metadata": {
      "needs_background": "light"
     },
     "output_type": "display_data"
    }
   ],
   "source": [
    "sns.scatterplot(y=\"WEIGHT\", x=\"DISTANCE\", data=address_data)"
   ]
  },
  {
   "cell_type": "code",
   "execution_count": 9,
   "metadata": {},
   "outputs": [
    {
     "data": {
      "text/plain": [
       "Index(['COUNTY_PIN', 'STATE_PIN', 'ANUMBERPRE', 'ANUMBER', 'ANUMBERSUF',\n",
       "       'ST_PRE_MOD', 'ST_PRE_DIR', 'ST_PRE_TYP', 'ST_PRE_SEP', 'ST_NAME',\n",
       "       'ST_POS_TYP', 'ST_POS_DIR', 'ST_POS_MOD', 'SUB_TYPE1', 'SUB_ID1',\n",
       "       'SUB_TYPE2', 'SUB_ID2', 'ZIP', 'ZIP4', 'CTU_NAME', 'CTU_ID_TXT',\n",
       "       'POSTCOMM', 'CO_CODE', 'CO_NAME', 'STATE_CODE', 'LOT', 'BLOCK',\n",
       "       'PLAT_NAME', 'OWNER_NAME', 'OWNER_MORE', 'OWN_ADD_L1', 'OWN_ADD_L2',\n",
       "       'OWN_ADD_L3', 'OWN_ADD_L4', 'TAX_NAME', 'TAX_ADD_L1', 'TAX_ADD_L2',\n",
       "       'TAX_ADD_L3', 'TAX_ADD_L4', 'LANDMARK', 'HOMESTEAD', 'ACRES_POLY',\n",
       "       'ACRES_DEED', 'EMV_LAND', 'EMV_BLDG', 'EMV_TOTAL', 'TAX_YEAR',\n",
       "       'MKT_YEAR', 'TAX_CAPAC', 'TOTAL_TAX', 'SPEC_ASSES', 'USECLASS1',\n",
       "       'USECLASS2', 'USECLASS3', 'USECLASS4', 'MULTI_USES', 'TAX_EXEMPT',\n",
       "       'XUSECLASS1', 'XUSECLASS2', 'XUSECLASS3', 'XUSECLASS4', 'DWELL_TYPE',\n",
       "       'HOME_STYLE', 'FIN_SQ_FT', 'GARAGE', 'GARAGESQFT', 'BASEMENT',\n",
       "       'HEATING', 'COOLING', 'YEAR_BUILT', 'NUM_UNITS', 'SALE_DATE',\n",
       "       'SALE_VALUE', 'GREEN_ACRE', 'OPEN_SPACE', 'AG_PRESERV', 'AGPRE_ENRD',\n",
       "       'AGPRE_EXPD', 'ABB_LEGAL', 'EDIT_DATE', 'EXP_DATE', 'POLYPTREL',\n",
       "       'N_STANDARD', 'OWNERSHIP', 'SCHOOL_DST', 'WSHD_DST', 'SECTION',\n",
       "       'TOWNSHIP', 'RANGE', 'RANGE_DIR', 'PRIN_MER', 'PIN', 'VIEWID',\n",
       "       'LONGITUDE', 'LATITUDE', 'DISTANCE'],\n",
       "      dtype='object')"
      ]
     },
     "execution_count": 9,
     "metadata": {},
     "output_type": "execute_result"
    }
   ],
   "source": [
    "address_data[\"WEIGHT\"] = address_data[\"USECLASS1\"].apply(lambda x: class_weights[x]) *\n"
   ]
  },
  {
   "cell_type": "code",
   "execution_count": 11,
   "metadata": {},
   "outputs": [
    {
     "data": {
      "text/plain": [
       "array([   0, 1882, 1886, 1890, 1892, 1894, 1900, 1901, 1902, 1904, 1910,\n",
       "       1912, 1913, 1914, 1917, 1920, 1924, 1925, 1928, 1929, 1930, 1932,\n",
       "       1934, 1935, 1936, 1938, 1939, 1940, 1941, 1942, 1943, 1945, 1946,\n",
       "       1947, 1948, 1949, 1950, 1951, 1952, 1953, 1954, 1955, 1956, 1957,\n",
       "       1958, 1959, 1960, 1961, 1962, 1963, 1964, 1965, 1966, 1967, 1968,\n",
       "       1969, 1970, 1971, 1972, 1973, 1974, 1975, 1976, 1977, 1978, 1979,\n",
       "       1980, 1981, 1982, 1983, 1984, 1985, 1986, 1987, 1988, 1989, 1990,\n",
       "       1991, 1992, 1993, 1994, 1995, 1996, 1997, 1998, 1999, 2000, 2001,\n",
       "       2002, 2003, 2004, 2005, 2006, 2007, 2008, 2009, 2010, 2011, 2012,\n",
       "       2013, 2014, 2015, 2016, 2017, 2018, 2019])"
      ]
     },
     "execution_count": 11,
     "metadata": {},
     "output_type": "execute_result"
    }
   ],
   "source": [
    "np.unique(address_data[\"YEAR_BUILT\"])"
   ]
  },
  {
   "cell_type": "code",
   "execution_count": 12,
   "metadata": {},
   "outputs": [
    {
     "data": {
      "text/plain": [
       "<matplotlib.axes._subplots.AxesSubplot at 0x7f2d31b60910>"
      ]
     },
     "execution_count": 12,
     "metadata": {},
     "output_type": "execute_result"
    },
    {
     "data": {
      "image/png": "[encoded data removed]",
      "text/plain": [
       "<Figure size 432x288 with 1 Axes>"
      ]
     },
     "metadata": {
      "needs_background": "light"
     },
     "output_type": "display_data"
    }
   ],
   "source": [
    "new_mask = address_data[\"YEAR_BUILT\"] > 0\n",
    "sns.histplot(address_data.loc[new_mask, \"YEAR_BUILT\"])"
   ]
  },
  {
   "cell_type": "code",
   "execution_count": null,
   "metadata": {},
   "outputs": [],
   "source": []
  }
 ],
 "metadata": {
  "kernelspec": {
   "display_name": "Python 3",
   "language": "python",
   "name": "python3"
  },
  "language_info": {
   "codemirror_mode": {
    "name": "ipython",
    "version": 3
   },
   "file_extension": ".py",
   "mimetype": "text/x-python",
   "name": "python",
   "nbconvert_exporter": "python",
   "pygments_lexer": "ipython3",
   "version": "3.8.2"
  }
 },
 "nbformat": 4,
 "nbformat_minor": 4
}
