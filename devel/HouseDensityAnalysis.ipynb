{
 "cells": [
  {
   "cell_type": "code",
   "execution_count": null,
   "metadata": {},
   "outputs": [],
   "source": [
    "%load_ext autoreload\n",
    "%autoreload 2"
   ]
  },
  {
   "cell_type": "code",
   "execution_count": null,
   "metadata": {},
   "outputs": [],
   "source": [
    "import pandas as pd\n",
    "import numpy as np\n",
    "import seaborn as sns\n",
    "import matplotlib.pyplot as plt\n",
    "from geotools.path_calc import address_search, get_metro_bounds\n",
    "from geotools.weighting import weighting_function\n"
   ]
  },
  {
   "cell_type": "code",
   "execution_count": null,
   "metadata": {},
   "outputs": [],
   "source": [
    "metro_grid = pd.read_csv(\"metro_grid.csv\", sep=\";\")"
   ]
  },
  {
   "cell_type": "code",
   "execution_count": null,
   "metadata": {},
   "outputs": [],
   "source": [
    "metro_grid"
   ]
  },
  {
   "cell_type": "code",
   "execution_count": null,
   "metadata": {},
   "outputs": [],
   "source": [
    "lat, lng = [45.147762, -93.134160]\n",
    "lng, lat = metro_grid.loc[10000,:]\n",
    "address_data = address_search(lng, lat, 5000.)"
   ]
  },
  {
   "cell_type": "code",
   "execution_count": null,
   "metadata": {},
   "outputs": [],
   "source": [
    "address_data"
   ]
  },
  {
   "cell_type": "code",
   "execution_count": null,
   "metadata": {},
   "outputs": [],
   "source": [
    "df = address_data\n",
    "class_weights = {\n",
    "    'AGRICULTURAL': 0.5,\n",
    "    'APARTMENTS / COOP': 10,\n",
    "    'COMMERCIAL / GOLF COURSE': 1,\n",
    "    'CONDOMINIUMS': 5,\n",
    "    'DOUBLE BUNGALOWS': 3,\n",
    "    'INDUSTRIAL': 3,\n",
    "    'MANUFACTURED HOME PARK': 10,\n",
    "    None: 0,\n",
    "    'RESIDENTIAL DUPLEXES': 3,\n",
    "    'RESIDENTIAL SINGLE FAMILY': 2,\n",
    "    'SEASONAL RECREATIONAL': 1,\n",
    "    'TAX FORFEIT': 0,\n",
    "    'UTILITY PROPERTY': 0\n",
    "}\n",
    "class_weights = {\n",
    "    '100 Res 1 unit': 2,\n",
    "    '105 Res 2-3 units': 2.5,\n",
    "    '110 Apt 4+ units': 6,\n",
    "#     '125 SRR',\n",
    "#     '140 Res V Land',\n",
    "#     '200 Agricultural',\n",
    "#     '211 Rural Vacant Land',\n",
    "    '300 Commercial': 2,\n",
    "    '305 Industrial': 1.5,\n",
    "#     '320 Q Golf Course',\n",
    "    '901 Schools-Public': 1,\n",
    "#     '911 Cemetery-Public',\n",
    "#     '912 Cemetery-Private',\n",
    "#     '915 Church',\n",
    "#     '916 Church-Residence',\n",
    "#     '917 Church-Other Res',\n",
    "#     '918 Church - Other',\n",
    "#     '925 Trans Housing',\n",
    "#     '931 Charit Inst',\n",
    "#     '940 Wetlands',\n",
    "#     '941 ForestParkRefuge',\n",
    "#     '942 Indian Resrv',\n",
    "#     '951 Federal Property',\n",
    "#     '952 State Property',\n",
    "#     '955 Co Srvc Other',\n",
    "#     '956 Muni Srvc Ent',\n",
    "#     '958 Muni Srvc Other',\n",
    "#     '962 T E Misc Co D 3',\n",
    "#     '981 State Acquired',\n",
    "#     '982 State Admin-DNR',\n",
    "#     '983 Co Admin-TaxForf',\n",
    "#     '990 InLieuTx Co D 1',\n",
    "}\n",
    "\n",
    "year_weights = lambda x: np.exp((x - 2020) / 10)\n",
    "use_weight = df[\"USECLASS1\"].map(lambda x: class_weights.get(x, 0)).values\n",
    "d = use_weight * year_weights(df[\"YEAR_BUILT\"].values)"
   ]
  },
  {
   "cell_type": "code",
   "execution_count": null,
   "metadata": {},
   "outputs": [],
   "source": [
    "from functools import reduce\n",
    "# reduceaddress_data[\"USECLASS1\"].unique()\n",
    "use_classes = list(reduce(lambda a, b: a + b, [address_data[f\"USECLASS{i}\"].unique().tolist() for i in range(1,5)]))\n",
    "set(use_classes)"
   ]
  },
  {
   "cell_type": "code",
   "execution_count": null,
   "metadata": {},
   "outputs": [],
   "source": [
    "class_weights = {\n",
    "    'AGRICULTURAL': 0.5,\n",
    "    'APARTMENTS / COOP': 10,\n",
    "    'COMMERCIAL / GOLF COURSE': 1,\n",
    "    'CONDOMINIUMS': 5,\n",
    "    'DOUBLE BUNGALOWS': 3,\n",
    "    'INDUSTRIAL': 3,\n",
    "    'MANUFACTURED HOME PARK': 10,\n",
    "     None: 0,\n",
    "    'RESIDENTIAL DUPLEXES': 3,\n",
    "    'RESIDENTIAL SINGLE FAMILY': 2,\n",
    "    'SEASONAL RECREATIONAL': 1,\n",
    "    'TAX FORFEIT': 0,\n",
    "    'UTILITY PROPERTY': 0\n",
    "}"
   ]
  },
  {
   "cell_type": "code",
   "execution_count": null,
   "metadata": {},
   "outputs": [],
   "source": [
    "x = np.linspace(1950, 2020, 1000)\n",
    "year_weights = lambda x: np.exp((x - 2020) / 10)\n",
    "fig, ax = plt.subplots()\n",
    "ax.plot(x, year_weights(x), \"--\")\n",
    "plt.show()"
   ]
  },
  {
   "cell_type": "code",
   "execution_count": null,
   "metadata": {},
   "outputs": [],
   "source": [
    "def weighting_function(df):\n",
    "    use_weight = df[\"USECLASS1\"].map(class_weights)\n",
    "    return use_weight * year_weights(df[\"YEAR_BUILT\"])"
   ]
  },
  {
   "cell_type": "code",
   "execution_count": null,
   "metadata": {},
   "outputs": [],
   "source": [
    "address_data[\"WEIGHT\"] = weighting_function(address_data)"
   ]
  },
  {
   "cell_type": "code",
   "execution_count": null,
   "metadata": {},
   "outputs": [],
   "source": [
    "sns.histplot(address_data[\"WEIGHT\"])"
   ]
  },
  {
   "cell_type": "code",
   "execution_count": null,
   "metadata": {},
   "outputs": [],
   "source": [
    "sns.scatterplot(y=\"WEIGHT\", x=\"DISTANCE\", data=address_data)"
   ]
  },
  {
   "cell_type": "code",
   "execution_count": null,
   "metadata": {},
   "outputs": [],
   "source": [
    "address_data[\"WEIGHT\"] = address_data[\"USECLASS1\"].apply(lambda x: class_weights[x]) *\n"
   ]
  },
  {
   "cell_type": "code",
   "execution_count": null,
   "metadata": {},
   "outputs": [],
   "source": [
    "np.unique(address_data[\"YEAR_BUILT\"])"
   ]
  },
  {
   "cell_type": "code",
   "execution_count": null,
   "metadata": {},
   "outputs": [],
   "source": [
    "new_mask = address_data[\"YEAR_BUILT\"] > 0\n",
    "address_data.loc[new_mask].plot.scatter(y=\"WEIGHT\", x=\"YEAR_BUILT\")"
   ]
  },
  {
   "cell_type": "code",
   "execution_count": null,
   "metadata": {},
   "outputs": [],
   "source": []
  }
 ],
 "metadata": {
  "kernelspec": {
   "display_name": "Python 3.8.2 64-bit ('commute': venv)",
   "language": "python",
   "name": "python38264bitcommutevenv1ffda8bc98494db0bca66f23d132b556"
  },
  "language_info": {
   "codemirror_mode": {
    "name": "ipython",
    "version": 3
   },
   "file_extension": ".py",
   "mimetype": "text/x-python",
   "name": "python",
   "nbconvert_exporter": "python",
   "pygments_lexer": "ipython3",
   "version": "3.8.2"
  }
 },
 "nbformat": 4,
 "nbformat_minor": 4
}
