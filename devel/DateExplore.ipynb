{
 "cells": [
  {
   "cell_type": "code",
   "execution_count": 1,
   "metadata": {},
   "outputs": [],
   "source": [
    "%load_ext autoreload\n",
    "\n",
    "%autoreload 2"
   ]
  },
  {
   "cell_type": "code",
   "execution_count": 3,
   "metadata": {},
   "outputs": [],
   "source": [
    "import fiona\n",
    "from geopy.distance import geodesic\n",
    "from pyproj import Proj, transform\n",
    "import pandas as pd\n",
    "import numpy as np\n",
    "data = fiona.open(\"data/shp_loc_address_points/AddressPoints.shp\")\n"
   ]
  },
  {
   "cell_type": "markdown",
   "execution_count": null,
   "metadata": {},
   "outputs": [],
   "source": [
    "Data has incorrect longitude latitude.\n",
    "They are provided as the projects for the current crs of EPSG:26915 rather than the actual longitude latitude.\n",
    "These need to be correct before they can be used for comparison."
   ]
  },
  {
   "cell_type": "code",
   "execution_count": 10,
   "metadata": {},
   "outputs": [],
   "source": [
    "d = [n for n in range(len(data)) if data[n][\"properties\"][\"EFF_DATE\"] is not None]\n"
   ]
  },
  {
   "cell_type": "code",
   "execution_count": 11,
   "metadata": {},
   "outputs": [
    {
     "data": {
      "text/plain": "576397"
     },
     "execution_count": 11,
     "metadata": {},
     "output_type": "execute_result"
    }
   ],
   "source": [
    "len(d)"
   ]
  },
  {
   "cell_type": "code",
   "execution_count": 22,
   "metadata": {},
   "outputs": [
    {
     "data": {
      "text/plain": "{'type': 'Feature',\n 'id': '408184',\n 'properties': OrderedDict([('ADD_ID', 'CB1C3F97-815F-4FB7-B63C-0C54C5F46345'),\n              ('ADD_ID_LOC', '93750'),\n              ('ANUMBERPRE', None),\n              ('ANUMBER', 22420),\n              ('ANUMBERSUF', None),\n              ('ST_PRE_MOD', None),\n              ('ST_PRE_DIR', None),\n              ('ST_PRE_TYP', 'County Road'),\n              ('ST_PRE_SEP', None),\n              ('ST_NAME', '30'),\n              ('ST_POS_TYP', None),\n              ('ST_POS_DIR', None),\n              ('ST_POS_MOD', None),\n              ('SUB_TYPE1', None),\n              ('SUB_ID1', None),\n              ('SUB_TYPE2', None),\n              ('SUB_ID2', None),\n              ('ZIP', '55374'),\n              ('ZIP4', None),\n              ('CTU_NAME', 'Corcoran'),\n              ('CTU_ID_TXT', '02393634'),\n              ('POSTCOMM', None),\n              ('CO_CODE', '27053'),\n              ('CO_NAME', 'Hennepin'),\n              ('STATE_CODE', 'MN'),\n              ('LOC_DESC', None),\n              ('LANDMARK', None),\n              ('RESIDENCE', None),\n              ('MAILABLE', None),\n              ('STATE_PIN', None),\n              ('PLACE_LOC', '1'),\n              ('CEN_GEO', 'Yes'),\n              ('UNI_WO_SUB', None),\n              ('LONGITUDE', -93.6088989),\n              ('LATITUDE', 45.13130525),\n              ('USNG_CODE', None),\n              ('GIS911POC', 'Hennepin'),\n              ('ESN', '147'),\n              ('PSAP_CODE', 'HE-N'),\n              ('MSAG_C', 'Corcoran'),\n              ('VERROR_911', None),\n              ('STATUS', None),\n              ('EFF_DATE', '1900-01-01'),\n              ('RET_DATE', '1900-01-01'),\n              ('SOURCE', None),\n              ('AAUTHORITY', 'Hennepin'),\n              ('EDIT_ORG', 'Hennepin'),\n              ('EDITED_DT', '1900-01-01'),\n              ('COMMENTS', None)]),\n 'geometry': {'type': 'Point',\n  'coordinates': (452119.1928000003, 4997717.236500001)}}"
     },
     "execution_count": 22,
     "metadata": {},
     "output_type": "execute_result"
    }
   ],
   "source": [
    "data[d[50203]]"
   ]
  },
  {
   "cell_type": "code",
   "execution_count": 0,
   "metadata": {},
   "outputs": [],
   "source": [
    "house = (45.147757, -93.134062)"
   ]
  },
  {
   "cell_type": "code",
   "execution_count": 0,
   "metadata": {},
   "outputs": [],
   "source": [
    "original = Proj(data.crs[\"init\"])\n",
    "destination = Proj(init='EPSG:4326')\n",
    "\n",
    "\n",
    "def get_long_lat(coors):\n",
    "    return transform(original, destination, coors[0], coors[1])[::-1]\n",
    "\n",
    "def test_distance(address, loc_coors):\n",
    "    address_coors = get_long_lat(address[\"geometry\"][\"coordinates\"])\n",
    "    return geodesic(address_coors, loc_coors)"
   ]
  },
  {
   "cell_type": "code",
   "execution_count": 0,
   "metadata": {},
   "outputs": [],
   "source": [
    "len(data)"
   ]
  },
  {
   "cell_type": "code",
   "execution_count": 0,
   "metadata": {},
   "outputs": [],
   "source": [
    "from tqdm.notebook import trange, tqdm\n",
    "\n",
    "latlong = np.empty((len(data), 2))\n",
    "# with open(\"data/addresslonglat.csv\", \"w\") as f:\n",
    "with tqdm(total=len(data)) as pbar:\n",
    "    for (n, loc) in enumerate(data):\n",
    "        latlong[n, :] = get_long_lat(loc[\"geometry\"][\"coordinates\"])\n",
    "        print(latlong[n, :])\n",
    "        if n != 0 and n % 100:\n",
    "            pbar.update(100)\n",
    "        # f.write(f\"{lat},{long}\\n\")\n",
    "# df = pd.read_csv(\"data/addresslonglat.csv\")\n",
    "np.save(\"data/addresslonglat.npy\", latlong)"
   ]
  },
  {
   "cell_type": "code",
   "execution_count": 0,
   "metadata": {},
   "outputs": [],
   "source": [
    "d = np.loadtxt(\"data/addresslonglat.npy\")"
   ]
  },
  {
   "cell_type": "code",
   "execution_count": 0,
   "metadata": {},
   "outputs": [],
   "source": [
    "wgs84 = (6378.137, 6356.7523142, 1 / 298.257223563)"
   ]
  },
  {
   "cell_type": "code",
   "execution_count": 0,
   "metadata": {},
   "outputs": [],
   "source": [
    "data[anoka[60000]]"
   ]
  },
  {
   "cell_type": "code",
   "execution_count": null,
   "metadata": {},
   "outputs": [],
   "source": []
  },
  {
   "cell_type": "markdown",
   "execution_count": null,
   "metadata": {},
   "outputs": [],
   "source": [
    "Need to convert from crs = 'epsg:26915' to crs = 'epsg:4326' to get long/lat"
   ]
  },
  {
   "cell_type": "code",
   "execution_count": 0,
   "metadata": {},
   "outputs": [],
   "source": [
    "data.crs"
   ]
  }
 ],
 "metadata": {
  "kernelspec": {
   "display_name": "Python 3",
   "language": "python",
   "name": "python3"
  },
  "language_info": {
   "codemirror_mode": {
    "name": "ipython",
    "version": 3
   },
   "file_extension": ".py",
   "mimetype": "text/x-python",
   "name": "python",
   "nbconvert_exporter": "python",
   "pygments_lexer": "ipython3",
   "version": "3.8.1"
  }
 },
 "nbformat": 4,
 "nbformat_minor": 4
}