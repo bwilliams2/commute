{
 "cells": [
  {
   "cell_type": "code",
   "execution_count": 27,
   "metadata": {},
   "outputs": [],
   "source": [
    "import fiona\n",
    "from geopy.distance import geodesic\n",
    "data = fiona.open(\"data/gpkg_loc_address_points/loc_address_points.gpkg\")\n"
   ]
  },
  {
   "cell_type": "markdown",
   "execution_count": null,
   "metadata": {},
   "outputs": [],
   "source": [
    "Data has incorrect longitude latitude.\n",
    "They are provided as the projects for the current crs of EPSG:26915 rather than the actual longitude latitude.\n",
    "These need to be correct before they can be used for comparison."
   ]
  },
  {
   "cell_type": "code",
   "execution_count": null,
   "metadata": {},
   "outputs": [],
   "source": [
    "house = (45.147757, -93.134062)"
   ]
  },
  {
   "cell_type": "code",
   "execution_count": 28,
   "metadata": {},
   "outputs": [],
   "source": [
    "anoka = []\n",
    "for (n, loc) in enumerate(data):\n",
    "    if loc[\"properties\"][\"CO_NAME\"] == \"Anoka\":\n",
    "        anoka.append(n)\n"
   ]
  },
  {
   "cell_type": "code",
   "execution_count": 30,
   "metadata": {},
   "outputs": [
    {
     "data": {
      "text/plain": "{'type': 'Feature',\n 'id': '60000',\n 'properties': OrderedDict([('ADD_ID', 'B46A4A29-DC72-407F-B5B1-CA1943B95A69'),\n              ('ADD_ID_LOC', None),\n              ('ANUMBERPRE', None),\n              ('ANUMBER', 12090),\n              ('ANUMBERSUF', None),\n              ('ST_PRE_MOD', None),\n              ('ST_PRE_DIR', None),\n              ('ST_PRE_TYP', None),\n              ('ST_PRE_SEP', None),\n              ('ST_NAME', 'Goldenrod'),\n              ('ST_POS_TYP', 'Street'),\n              ('ST_POS_DIR', 'Northwest'),\n              ('ST_POS_MOD', None),\n              ('SUB_TYPE1', None),\n              ('SUB_ID1', None),\n              ('SUB_TYPE2', None),\n              ('SUB_ID2', None),\n              ('ZIP', '55448'),\n              ('ZIP4', None),\n              ('CTU_NAME', 'Coon Rapids'),\n              ('CTU_ID_TXT', '02393628'),\n              ('POSTCOMM', None),\n              ('CO_CODE', '27003'),\n              ('CO_NAME', 'Anoka'),\n              ('STATE_CODE', 'MN'),\n              ('LOC_DESC', None),\n              ('LANDMARK', None),\n              ('RESIDENCE', None),\n              ('MAILABLE', None),\n              ('STATE_PIN', None),\n              ('PLACE_LOC', None),\n              ('CEN_GEO', 'Yes'),\n              ('UNI_WO_SUB', None),\n              ('LONGITUDE', 478318.0508),\n              ('LATITUDE', 5004196.4528),\n              ('USNG_CODE', None),\n              ('GIS911POC', 'Anoka'),\n              ('ESN', '231'),\n              ('PSAP_CODE', 'ANOK'),\n              ('MSAG_C', 'Coon Rapids'),\n              ('VERROR_911', None),\n              ('STATUS', None),\n              ('EFF_DATE', None),\n              ('RET_DATE', None),\n              ('SOURCE', None),\n              ('AAUTHORITY', 'Coon Rapids'),\n              ('EDIT_ORG', None),\n              ('EDITED_DT', None),\n              ('COMMENTS', None)]),\n 'geometry': {'type': 'Point',\n  'coordinates': (478318.0508000003, 5004196.4528)}}"
     },
     "execution_count": 30,
     "metadata": {},
     "output_type": "execute_result"
    }
   ],
   "source": [
    "data[anoka[60000]]"
   ]
  },
  {
   "cell_type": "code",
   "execution_count": null,
   "metadata": {},
   "outputs": [],
   "source": []
  },
  {
   "cell_type": "markdown",
   "execution_count": null,
   "metadata": {},
   "outputs": [],
   "source": [
    "Need to convert from crs = 'epsg:26915' to crs = 'epsg:4326' to get long/lat"
   ]
  },
  {
   "cell_type": "code",
   "execution_count": 38,
   "metadata": {},
   "outputs": [
    {
     "data": {
      "text/plain": "{'init': 'epsg:26915'}"
     },
     "execution_count": 38,
     "metadata": {},
     "output_type": "execute_result"
    }
   ],
   "source": [
    "data.crs"
   ]
  }
 ],
 "metadata": {
  "kernelspec": {
   "display_name": "Python 3",
   "language": "python",
   "name": "python3"
  },
  "language_info": {
   "codemirror_mode": {
    "name": "ipython",
    "version": 3
   },
   "file_extension": ".py",
   "mimetype": "text/x-python",
   "name": "python",
   "nbconvert_exporter": "python",
   "pygments_lexer": "ipython3",
   "version": "3.8.1"
  }
 },
 "nbformat": 4,
 "nbformat_minor": 4
}