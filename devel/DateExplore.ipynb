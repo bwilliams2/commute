{
 "cells": [
  {
   "cell_type": "code",
   "execution_count": 1,
   "metadata": {},
   "outputs": [],
   "source": [
    "%load_ext autoreload\n",
    "\n",
    "%autoreload 2"
   ]
  },
  {
   "cell_type": "code",
   "execution_count": 1,
   "metadata": {},
   "outputs": [
    {
     "data": {
      "text/plain": [
       "OrderedDict([('COUNTY_PIN', '303122240068'),\n",
       "             ('STATE_PIN', '27003-303122240068'),\n",
       "             ('ANUMBERPRE', None),\n",
       "             ('ANUMBER', 6668),\n",
       "             ('ANUMBERSUF', None),\n",
       "             ('ST_PRE_MOD', None),\n",
       "             ('ST_PRE_DIR', None),\n",
       "             ('ST_PRE_TYP', None),\n",
       "             ('ST_PRE_SEP', None),\n",
       "             ('ST_NAME', 'Blue Heron'),\n",
       "             ('ST_POS_TYP', 'Drive'),\n",
       "             ('ST_POS_DIR', None),\n",
       "             ('ST_POS_MOD', None),\n",
       "             ('SUB_TYPE1', None),\n",
       "             ('SUB_ID1', None),\n",
       "             ('SUB_TYPE2', None),\n",
       "             ('SUB_ID2', None),\n",
       "             ('ZIP', '55014'),\n",
       "             ('ZIP4', None),\n",
       "             ('CTU_NAME', 'Lino Lakes'),\n",
       "             ('CTU_ID_TXT', '02395725'),\n",
       "             ('POSTCOMM', 'CIRCLE PINES'),\n",
       "             ('CO_CODE', '27003'),\n",
       "             ('CO_NAME', 'Anoka'),\n",
       "             ('STATE_CODE', 'MN'),\n",
       "             ('LOT', '34'),\n",
       "             ('BLOCK', '7'),\n",
       "             ('PLAT_NAME', 'RICE LAKE ESTATES'),\n",
       "             ('OWNER_NAME', 'MAW M CURTIS & CONNIE O'),\n",
       "             ('OWNER_MORE', None),\n",
       "             ('OWN_ADD_L1', 'PO BOX 101'),\n",
       "             ('OWN_ADD_L2', 'CIRCLE PINES'),\n",
       "             ('OWN_ADD_L3', '55014'),\n",
       "             ('OWN_ADD_L4', None),\n",
       "             ('TAX_NAME', 'MAW M CURTIS & CONNIE O'),\n",
       "             ('TAX_ADD_L1', 'PO BOX 101'),\n",
       "             ('TAX_ADD_L2', 'CIRCLE PINES'),\n",
       "             ('TAX_ADD_L3', '55014'),\n",
       "             ('TAX_ADD_L4', None),\n",
       "             ('LANDMARK', None),\n",
       "             ('HOMESTEAD', 'Yes'),\n",
       "             ('ACRES_POLY', 0.2),\n",
       "             ('ACRES_DEED', 0.0),\n",
       "             ('EMV_LAND', 72500),\n",
       "             ('EMV_BLDG', 188700),\n",
       "             ('EMV_TOTAL', 261200),\n",
       "             ('TAX_YEAR', 2020),\n",
       "             ('MKT_YEAR', 2019),\n",
       "             ('TAX_CAPAC', 2475),\n",
       "             ('TOTAL_TAX', 2912),\n",
       "             ('SPEC_ASSES', 24),\n",
       "             ('USECLASS1', 'RESIDENTIAL SINGLE FAMILY'),\n",
       "             ('USECLASS2', None),\n",
       "             ('USECLASS3', None),\n",
       "             ('USECLASS4', None),\n",
       "             ('MULTI_USES', None),\n",
       "             ('TAX_EXEMPT', 'N'),\n",
       "             ('XUSECLASS1', None),\n",
       "             ('XUSECLASS2', None),\n",
       "             ('XUSECLASS3', None),\n",
       "             ('XUSECLASS4', None),\n",
       "             ('DWELL_TYPE', 'single-family'),\n",
       "             ('HOME_STYLE', 'Split Level'),\n",
       "             ('FIN_SQ_FT', 1202),\n",
       "             ('GARAGE', 'Yes'),\n",
       "             ('GARAGESQFT', 0),\n",
       "             ('BASEMENT', 'Yes'),\n",
       "             ('HEATING', 'Forced Air Furnace'),\n",
       "             ('COOLING', None),\n",
       "             ('YEAR_BUILT', 1987),\n",
       "             ('NUM_UNITS', 0),\n",
       "             ('SALE_DATE', None),\n",
       "             ('SALE_VALUE', 0),\n",
       "             ('GREEN_ACRE', 'No'),\n",
       "             ('OPEN_SPACE', 'No'),\n",
       "             ('AG_PRESERV', 'No'),\n",
       "             ('AGPRE_ENRD', None),\n",
       "             ('AGPRE_EXPD', None),\n",
       "             ('ABB_LEGAL', None),\n",
       "             ('EDIT_DATE', None),\n",
       "             ('EXP_DATE', '2020-04-09'),\n",
       "             ('POLYPTREL', 0),\n",
       "             ('N_STANDARD', 0),\n",
       "             ('OWNERSHIP', None),\n",
       "             ('SCHOOL_DST', '01-0012'),\n",
       "             ('WSHD_DST', 'Rice Creek WSD'),\n",
       "             ('SECTION', 30),\n",
       "             ('TOWNSHIP', 31),\n",
       "             ('RANGE', 22),\n",
       "             ('RANGE_DIR', 0),\n",
       "             ('PRIN_MER', 0),\n",
       "             ('PIN', '003-303122240068'),\n",
       "             ('VIEWID', 22027),\n",
       "             ('LONGITUDE', -93.134),\n",
       "             ('LATITUDE', 45.1479)])"
      ]
     },
     "execution_count": 1,
     "metadata": {},
     "output_type": "execute_result"
    }
   ],
   "source": [
    "import fiona\n",
    "from geopy.distance import geodesic\n",
    "from pyproj import Proj, transform\n",
    "import pandas as pd\n",
    "import numpy as np\n",
    "\n",
    "data = fiona.open(\"../webapp/backend/backend/data/ParcelsAnokaPoints.shp\")\n",
    "data[27531][\"properties\"]"
   ]
  },
  {
   "cell_type": "markdown",
   "metadata": {},
   "source": [
    "Data has incorrect longitude latitude.\n",
    "They are provided as the projects for the current crs of EPSG:26915 rather than the actual longitude latitude.\n",
    "These need to be correct before they can be used for comparison."
   ]
  },
  {
   "cell_type": "code",
   "execution_count": 21,
   "metadata": {},
   "outputs": [
    {
     "name": "stdout",
     "output_type": "stream",
     "text": [
      "['/home/bryce/code/commute/webapp/backend/backend/data/ParcelsCarverPoints.shp', '/home/bryce/code/commute/webapp/backend/backend/data/ParcelsAnokaPoints.shp', '/home/bryce/code/commute/webapp/backend/backend/data/ParcelsScottPoints.shp', '/home/bryce/code/commute/webapp/backend/backend/data/ParcelsRamseyPoints.shp', '/home/bryce/code/commute/webapp/backend/backend/data/ParcelsWashingtonPoints.shp', '/home/bryce/code/commute/webapp/backend/backend/data/ParcelsHennepinPoints.shp', '/home/bryce/code/commute/webapp/backend/backend/data/ParcelsDakotaPoints.shp']\n"
     ]
    }
   ],
   "source": [
    "import backend\n",
    "import glob\n",
    "from importlib.resources import path, contents\n",
    "with path(\"backend\", \"data\") as data_dir:\n",
    "    print(glob.glob(str(data_dir.joinpath(\"*.shp\").absolute())))"
   ]
  },
  {
   "cell_type": "code",
   "execution_count": 33,
   "metadata": {},
   "outputs": [],
   "source": [
    "from backend.geotools.path_calc import address_search\n",
    "lat, lng = [45.147762, -93.134160]\n",
    "address_data = address_search(lng, lat, 10000.)\n",
    "d = 5"
   ]
  },
  {
   "cell_type": "code",
   "execution_count": 34,
   "metadata": {},
   "outputs": [
    {
     "data": {
      "text/plain": [
       "<matplotlib.axes._subplots.AxesSubplot at 0x7f89f544a790>"
      ]
     },
     "execution_count": 34,
     "metadata": {},
     "output_type": "execute_result"
    },
    {
     "data": {
      "image/png": "[encoded data removed]",
      "text/plain": [
       "<Figure size 432x288 with 1 Axes>"
      ]
     },
     "metadata": {
      "needs_background": "light"
     },
     "output_type": "display_data"
    }
   ],
   "source": [
    "address_data.loc[address_data[\"YEAR_BUILT\"] > 1940][\"YEAR_BUILT\"].hist()"
   ]
  },
  {
   "cell_type": "code",
   "execution_count": 11,
   "metadata": {},
   "outputs": [
    {
     "data": {
      "text/plain": [
       "array([10256750.39825146, 10256750.39825146, 10256750.39825146, ...,\n",
       "       10256750.39825146, 10256750.39825146, 10256750.39825146])"
      ]
     },
     "execution_count": 11,
     "metadata": {},
     "output_type": "execute_result"
    }
   ],
   "source": [
    "import numpy as np\n",
    "pos = np.where(address_data < 10256754)\n",
    "address_data[pos[0]]"
   ]
  },
  {
   "cell_type": "code",
   "execution_count": 26,
   "metadata": {},
   "outputs": [
    {
     "data": {
      "text/plain": [
       "Index(['COUNTY_PIN', 'STATE_PIN', 'ANUMBERPRE', 'ANUMBER', 'ANUMBERSUF',\n",
       "       'ST_PRE_MOD', 'ST_PRE_DIR', 'ST_PRE_TYP', 'ST_PRE_SEP', 'ST_NAME',\n",
       "       'ST_POS_TYP', 'ST_POS_DIR', 'ST_POS_MOD', 'SUB_TYPE1', 'SUB_ID1',\n",
       "       'SUB_TYPE2', 'SUB_ID2', 'ZIP', 'ZIP4', 'CTU_NAME', 'CTU_ID_TXT',\n",
       "       'POSTCOMM', 'CO_CODE', 'CO_NAME', 'STATE_CODE', 'LOT', 'BLOCK',\n",
       "       'PLAT_NAME', 'OWNER_NAME', 'OWNER_MORE', 'OWN_ADD_L1', 'OWN_ADD_L2',\n",
       "       'OWN_ADD_L3', 'OWN_ADD_L4', 'TAX_NAME', 'TAX_ADD_L1', 'TAX_ADD_L2',\n",
       "       'TAX_ADD_L3', 'TAX_ADD_L4', 'LANDMARK', 'HOMESTEAD', 'ACRES_POLY',\n",
       "       'ACRES_DEED', 'EMV_LAND', 'EMV_BLDG', 'EMV_TOTAL', 'TAX_YEAR',\n",
       "       'MKT_YEAR', 'TAX_CAPAC', 'TOTAL_TAX', 'SPEC_ASSES', 'USECLASS1',\n",
       "       'USECLASS2', 'USECLASS3', 'USECLASS4', 'MULTI_USES', 'TAX_EXEMPT',\n",
       "       'XUSECLASS1', 'XUSECLASS2', 'XUSECLASS3', 'XUSECLASS4', 'DWELL_TYPE',\n",
       "       'HOME_STYLE', 'FIN_SQ_FT', 'GARAGE', 'GARAGESQFT', 'BASEMENT',\n",
       "       'HEATING', 'COOLING', 'YEAR_BUILT', 'NUM_UNITS', 'SALE_DATE',\n",
       "       'SALE_VALUE', 'GREEN_ACRE', 'OPEN_SPACE', 'AG_PRESERV', 'AGPRE_ENRD',\n",
       "       'AGPRE_EXPD', 'ABB_LEGAL', 'EDIT_DATE', 'EXP_DATE', 'POLYPTREL',\n",
       "       'N_STANDARD', 'OWNERSHIP', 'SCHOOL_DST', 'WSHD_DST', 'SECTION',\n",
       "       'TOWNSHIP', 'RANGE', 'RANGE_DIR', 'PRIN_MER', 'PIN', 'VIEWID',\n",
       "       'LONGITUDE', 'LATITUDE', 'Distance'],\n",
       "      dtype='object')"
      ]
     },
     "execution_count": 26,
     "metadata": {},
     "output_type": "execute_result"
    }
   ],
   "source": [
    "address_data.columns"
   ]
  },
  {
   "cell_type": "code",
   "execution_count": 10,
   "metadata": {},
   "outputs": [
    {
     "name": "stdout",
     "output_type": "stream",
     "text": [
      "[]\n"
     ]
    }
   ],
   "source": [
    "record_positions = np.where(np.array(address_data) <= 1000.)\n",
    "file_records = [get_properties(i) for i in record_positions]"
   ]
  },
  {
   "cell_type": "code",
   "execution_count": 9,
   "metadata": {},
   "outputs": [],
   "source": [
    "def get_properties(location):\n",
    "    try:\n",
    "        return data[location][\"properties\"]\n",
    "    except:\n",
    "        print(location)\n",
    "    return"
   ]
  },
  {
   "cell_type": "code",
   "execution_count": 4,
   "metadata": {},
   "outputs": [
    {
     "data": {
      "text/plain": [
       "array([], dtype=int64)"
      ]
     },
     "execution_count": 4,
     "metadata": {},
     "output_type": "execute_result"
    }
   ],
   "source": [
    "import numpy as np\n",
    "np.where(address_data < 1000)[0]"
   ]
  },
  {
   "cell_type": "code",
   "execution_count": 24,
   "metadata": {},
   "outputs": [
    {
     "data": {
      "text/html": [
       "<div>\n",
       "<style scoped>\n",
       "    .dataframe tbody tr th:only-of-type {\n",
       "        vertical-align: middle;\n",
       "    }\n",
       "\n",
       "    .dataframe tbody tr th {\n",
       "        vertical-align: top;\n",
       "    }\n",
       "\n",
       "    .dataframe thead th {\n",
       "        text-align: right;\n",
       "    }\n",
       "</style>\n",
       "<table border=\"1\" class=\"dataframe\">\n",
       "  <thead>\n",
       "    <tr style=\"text-align: right;\">\n",
       "      <th></th>\n",
       "      <th>COUNTY_PIN</th>\n",
       "      <th>STATE_PIN</th>\n",
       "      <th>ANUMBERPRE</th>\n",
       "      <th>ANUMBER</th>\n",
       "      <th>ANUMBERSUF</th>\n",
       "      <th>ST_PRE_MOD</th>\n",
       "      <th>ST_PRE_DIR</th>\n",
       "      <th>ST_PRE_TYP</th>\n",
       "      <th>ST_PRE_SEP</th>\n",
       "      <th>ST_NAME</th>\n",
       "      <th>...</th>\n",
       "      <th>WSHD_DST</th>\n",
       "      <th>SECTION</th>\n",
       "      <th>TOWNSHIP</th>\n",
       "      <th>RANGE</th>\n",
       "      <th>RANGE_DIR</th>\n",
       "      <th>PRIN_MER</th>\n",
       "      <th>PIN</th>\n",
       "      <th>VIEWID</th>\n",
       "      <th>LONGITUDE</th>\n",
       "      <th>LATITUDE</th>\n",
       "    </tr>\n",
       "  </thead>\n",
       "  <tbody>\n",
       "    <tr>\n",
       "      <th>0</th>\n",
       "      <td>PINS PENDING</td>\n",
       "      <td>27003-PINS PENDING</td>\n",
       "      <td>None</td>\n",
       "      <td>8019</td>\n",
       "      <td>None</td>\n",
       "      <td>None</td>\n",
       "      <td>None</td>\n",
       "      <td>None</td>\n",
       "      <td>None</td>\n",
       "      <td>146Th</td>\n",
       "      <td>...</td>\n",
       "      <td>Lower Rum River WMO</td>\n",
       "      <td>29</td>\n",
       "      <td>32</td>\n",
       "      <td>25</td>\n",
       "      <td>0</td>\n",
       "      <td>0</td>\n",
       "      <td>003-PINS PENDING</td>\n",
       "      <td>6183</td>\n",
       "      <td>-93.471</td>\n",
       "      <td>45.2365</td>\n",
       "    </tr>\n",
       "    <tr>\n",
       "      <th>1</th>\n",
       "      <td>363425120002</td>\n",
       "      <td>27003-363425120002</td>\n",
       "      <td>None</td>\n",
       "      <td>5036</td>\n",
       "      <td>None</td>\n",
       "      <td>None</td>\n",
       "      <td>None</td>\n",
       "      <td>None</td>\n",
       "      <td>None</td>\n",
       "      <td>Ambassador</td>\n",
       "      <td>...</td>\n",
       "      <td>Upper Rum River WMO</td>\n",
       "      <td>36</td>\n",
       "      <td>34</td>\n",
       "      <td>25</td>\n",
       "      <td>0</td>\n",
       "      <td>0</td>\n",
       "      <td>003-363425120002</td>\n",
       "      <td>934</td>\n",
       "      <td>-93.394</td>\n",
       "      <td>45.3973</td>\n",
       "    </tr>\n",
       "    <tr>\n",
       "      <th>2</th>\n",
       "      <td>363423130001</td>\n",
       "      <td>27003-363423130001</td>\n",
       "      <td>None</td>\n",
       "      <td>0</td>\n",
       "      <td>None</td>\n",
       "      <td>None</td>\n",
       "      <td>None</td>\n",
       "      <td>None</td>\n",
       "      <td>None</td>\n",
       "      <td>None</td>\n",
       "      <td>...</td>\n",
       "      <td>Sunrise River WMO</td>\n",
       "      <td>36</td>\n",
       "      <td>34</td>\n",
       "      <td>23</td>\n",
       "      <td>0</td>\n",
       "      <td>0</td>\n",
       "      <td>003-363423130001</td>\n",
       "      <td>51255</td>\n",
       "      <td>-93.149</td>\n",
       "      <td>45.3941</td>\n",
       "    </tr>\n",
       "    <tr>\n",
       "      <th>3</th>\n",
       "      <td>363323210114</td>\n",
       "      <td>27003-363323210114</td>\n",
       "      <td>None</td>\n",
       "      <td>220</td>\n",
       "      <td>None</td>\n",
       "      <td>None</td>\n",
       "      <td>None</td>\n",
       "      <td>None</td>\n",
       "      <td>None</td>\n",
       "      <td>Elm</td>\n",
       "      <td>...</td>\n",
       "      <td>Sunrise River WMO</td>\n",
       "      <td>36</td>\n",
       "      <td>33</td>\n",
       "      <td>23</td>\n",
       "      <td>0</td>\n",
       "      <td>0</td>\n",
       "      <td>003-363323210114</td>\n",
       "      <td>42274</td>\n",
       "      <td>-93.156</td>\n",
       "      <td>45.3094</td>\n",
       "    </tr>\n",
       "    <tr>\n",
       "      <th>4</th>\n",
       "      <td>363325420010</td>\n",
       "      <td>27003-363325420010</td>\n",
       "      <td>None</td>\n",
       "      <td>5050</td>\n",
       "      <td>None</td>\n",
       "      <td>None</td>\n",
       "      <td>None</td>\n",
       "      <td>None</td>\n",
       "      <td>None</td>\n",
       "      <td>183Rd</td>\n",
       "      <td>...</td>\n",
       "      <td>Upper Rum River WMO</td>\n",
       "      <td>36</td>\n",
       "      <td>33</td>\n",
       "      <td>25</td>\n",
       "      <td>0</td>\n",
       "      <td>0</td>\n",
       "      <td>003-363325420010</td>\n",
       "      <td>21931</td>\n",
       "      <td>-93.395</td>\n",
       "      <td>45.3029</td>\n",
       "    </tr>\n",
       "    <tr>\n",
       "      <th>5</th>\n",
       "      <td>363423330007</td>\n",
       "      <td>27003-363423330007</td>\n",
       "      <td>None</td>\n",
       "      <td>23003</td>\n",
       "      <td>None</td>\n",
       "      <td>None</td>\n",
       "      <td>None</td>\n",
       "      <td>None</td>\n",
       "      <td>None</td>\n",
       "      <td>Durant</td>\n",
       "      <td>...</td>\n",
       "      <td>Sunrise River WMO</td>\n",
       "      <td>36</td>\n",
       "      <td>34</td>\n",
       "      <td>23</td>\n",
       "      <td>0</td>\n",
       "      <td>0</td>\n",
       "      <td>003-363423330007</td>\n",
       "      <td>45358</td>\n",
       "      <td>-93.162</td>\n",
       "      <td>45.3870</td>\n",
       "    </tr>\n",
       "    <tr>\n",
       "      <th>6</th>\n",
       "      <td>363024110054</td>\n",
       "      <td>27003-363024110054</td>\n",
       "      <td>None</td>\n",
       "      <td>4333</td>\n",
       "      <td>None</td>\n",
       "      <td>None</td>\n",
       "      <td>None</td>\n",
       "      <td>None</td>\n",
       "      <td>None</td>\n",
       "      <td>Arthur</td>\n",
       "      <td>...</td>\n",
       "      <td>Rice Creek WSD</td>\n",
       "      <td>36</td>\n",
       "      <td>30</td>\n",
       "      <td>24</td>\n",
       "      <td>0</td>\n",
       "      <td>0</td>\n",
       "      <td>003-363024110054</td>\n",
       "      <td>73771</td>\n",
       "      <td>-93.231</td>\n",
       "      <td>45.0474</td>\n",
       "    </tr>\n",
       "    <tr>\n",
       "      <th>7</th>\n",
       "      <td>353024240071</td>\n",
       "      <td>27003-353024240071</td>\n",
       "      <td>None</td>\n",
       "      <td>4213</td>\n",
       "      <td>None</td>\n",
       "      <td>None</td>\n",
       "      <td>None</td>\n",
       "      <td>None</td>\n",
       "      <td>None</td>\n",
       "      <td>6Th</td>\n",
       "      <td>...</td>\n",
       "      <td>Mississippi WMO</td>\n",
       "      <td>35</td>\n",
       "      <td>30</td>\n",
       "      <td>24</td>\n",
       "      <td>0</td>\n",
       "      <td>0</td>\n",
       "      <td>003-353024240071</td>\n",
       "      <td>76324</td>\n",
       "      <td>-93.258</td>\n",
       "      <td>45.0450</td>\n",
       "    </tr>\n",
       "  </tbody>\n",
       "</table>\n",
       "<p>8 rows × 95 columns</p>\n",
       "</div>"
      ],
      "text/plain": [
       "     COUNTY_PIN           STATE_PIN ANUMBERPRE  ANUMBER ANUMBERSUF ST_PRE_MOD  \\\n",
       "0  PINS PENDING  27003-PINS PENDING       None     8019       None       None   \n",
       "1  363425120002  27003-363425120002       None     5036       None       None   \n",
       "2  363423130001  27003-363423130001       None        0       None       None   \n",
       "3  363323210114  27003-363323210114       None      220       None       None   \n",
       "4  363325420010  27003-363325420010       None     5050       None       None   \n",
       "5  363423330007  27003-363423330007       None    23003       None       None   \n",
       "6  363024110054  27003-363024110054       None     4333       None       None   \n",
       "7  353024240071  27003-353024240071       None     4213       None       None   \n",
       "\n",
       "  ST_PRE_DIR ST_PRE_TYP ST_PRE_SEP     ST_NAME  ...             WSHD_DST  \\\n",
       "0       None       None       None       146Th  ...  Lower Rum River WMO   \n",
       "1       None       None       None  Ambassador  ...  Upper Rum River WMO   \n",
       "2       None       None       None        None  ...    Sunrise River WMO   \n",
       "3       None       None       None         Elm  ...    Sunrise River WMO   \n",
       "4       None       None       None       183Rd  ...  Upper Rum River WMO   \n",
       "5       None       None       None      Durant  ...    Sunrise River WMO   \n",
       "6       None       None       None      Arthur  ...       Rice Creek WSD   \n",
       "7       None       None       None         6Th  ...      Mississippi WMO   \n",
       "\n",
       "  SECTION TOWNSHIP RANGE RANGE_DIR PRIN_MER               PIN VIEWID  \\\n",
       "0      29       32    25         0        0  003-PINS PENDING   6183   \n",
       "1      36       34    25         0        0  003-363425120002    934   \n",
       "2      36       34    23         0        0  003-363423130001  51255   \n",
       "3      36       33    23         0        0  003-363323210114  42274   \n",
       "4      36       33    25         0        0  003-363325420010  21931   \n",
       "5      36       34    23         0        0  003-363423330007  45358   \n",
       "6      36       30    24         0        0  003-363024110054  73771   \n",
       "7      35       30    24         0        0  003-353024240071  76324   \n",
       "\n",
       "  LONGITUDE LATITUDE  \n",
       "0   -93.471  45.2365  \n",
       "1   -93.394  45.3973  \n",
       "2   -93.149  45.3941  \n",
       "3   -93.156  45.3094  \n",
       "4   -93.395  45.3029  \n",
       "5   -93.162  45.3870  \n",
       "6   -93.231  45.0474  \n",
       "7   -93.258  45.0450  \n",
       "\n",
       "[8 rows x 95 columns]"
      ]
     },
     "execution_count": 24,
     "metadata": {},
     "output_type": "execute_result"
    }
   ],
   "source": [
    "items = [0, 100, 305, 1022, 451, 231, 6000, 10128]\n",
    "d = [data[i][\"properties\"] for i in items]\n",
    "pd.DataFrame(d)"
   ]
  },
  {
   "cell_type": "code",
   "execution_count": 10,
   "metadata": {},
   "outputs": [],
   "source": [
    "d = [n for n in range(len(data)) if data[n][\"properties\"][\"EFF_DATE\"] is not None]\n",
    "a"
   ]
  },
  {
   "cell_type": "code",
   "execution_count": 11,
   "metadata": {},
   "outputs": [
    {
     "data": {
      "text/plain": [
       "576397"
      ]
     },
     "execution_count": 11,
     "metadata": {},
     "output_type": "execute_result"
    }
   ],
   "source": [
    "len(d)"
   ]
  },
  {
   "cell_type": "code",
   "execution_count": 22,
   "metadata": {},
   "outputs": [
    {
     "data": {
      "text/plain": [
       "{'type': 'Feature',\n",
       " 'id': '408184',\n",
       " 'properties': OrderedDict([('ADD_ID', 'CB1C3F97-815F-4FB7-B63C-0C54C5F46345'),\n",
       "              ('ADD_ID_LOC', '93750'),\n",
       "              ('ANUMBERPRE', None),\n",
       "              ('ANUMBER', 22420),\n",
       "              ('ANUMBERSUF', None),\n",
       "              ('ST_PRE_MOD', None),\n",
       "              ('ST_PRE_DIR', None),\n",
       "              ('ST_PRE_TYP', 'County Road'),\n",
       "              ('ST_PRE_SEP', None),\n",
       "              ('ST_NAME', '30'),\n",
       "              ('ST_POS_TYP', None),\n",
       "              ('ST_POS_DIR', None),\n",
       "              ('ST_POS_MOD', None),\n",
       "              ('SUB_TYPE1', None),\n",
       "              ('SUB_ID1', None),\n",
       "              ('SUB_TYPE2', None),\n",
       "              ('SUB_ID2', None),\n",
       "              ('ZIP', '55374'),\n",
       "              ('ZIP4', None),\n",
       "              ('CTU_NAME', 'Corcoran'),\n",
       "              ('CTU_ID_TXT', '02393634'),\n",
       "              ('POSTCOMM', None),\n",
       "              ('CO_CODE', '27053'),\n",
       "              ('CO_NAME', 'Hennepin'),\n",
       "              ('STATE_CODE', 'MN'),\n",
       "              ('LOC_DESC', None),\n",
       "              ('LANDMARK', None),\n",
       "              ('RESIDENCE', None),\n",
       "              ('MAILABLE', None),\n",
       "              ('STATE_PIN', None),\n",
       "              ('PLACE_LOC', '1'),\n",
       "              ('CEN_GEO', 'Yes'),\n",
       "              ('UNI_WO_SUB', None),\n",
       "              ('LONGITUDE', -93.6088989),\n",
       "              ('LATITUDE', 45.13130525),\n",
       "              ('USNG_CODE', None),\n",
       "              ('GIS911POC', 'Hennepin'),\n",
       "              ('ESN', '147'),\n",
       "              ('PSAP_CODE', 'HE-N'),\n",
       "              ('MSAG_C', 'Corcoran'),\n",
       "              ('VERROR_911', None),\n",
       "              ('STATUS', None),\n",
       "              ('EFF_DATE', '1900-01-01'),\n",
       "              ('RET_DATE', '1900-01-01'),\n",
       "              ('SOURCE', None),\n",
       "              ('AAUTHORITY', 'Hennepin'),\n",
       "              ('EDIT_ORG', 'Hennepin'),\n",
       "              ('EDITED_DT', '1900-01-01'),\n",
       "              ('COMMENTS', None)]),\n",
       " 'geometry': {'type': 'Point',\n",
       "  'coordinates': (452119.1928000003, 4997717.236500001)}}"
      ]
     },
     "execution_count": 22,
     "metadata": {},
     "output_type": "execute_result"
    }
   ],
   "source": [
    "data[d[50203]]"
   ]
  },
  {
   "cell_type": "code",
   "execution_count": null,
   "metadata": {},
   "outputs": [],
   "source": [
    "house = (45.147757, -93.134062)"
   ]
  },
  {
   "cell_type": "code",
   "execution_count": null,
   "metadata": {},
   "outputs": [],
   "source": [
    "original = Proj(data.crs[\"init\"])\n",
    "destination = Proj(init='EPSG:4326')\n",
    "\n",
    "\n",
    "def get_long_lat(coors):\n",
    "    return transform(original, destination, coors[0], coors[1])[::-1]\n",
    "\n",
    "def test_distance(address, loc_coors):\n",
    "    address_coors = get_long_lat(address[\"geometry\"][\"coordinates\"])\n",
    "    return geodesic(address_coors, loc_coors)"
   ]
  },
  {
   "cell_type": "code",
   "execution_count": null,
   "metadata": {},
   "outputs": [],
   "source": [
    "len(data)"
   ]
  },
  {
   "cell_type": "code",
   "execution_count": null,
   "metadata": {},
   "outputs": [],
   "source": [
    "from tqdm.notebook import trange, tqdm\n",
    "\n",
    "latlong = np.empty((len(data), 2))\n",
    "# with open(\"data/addresslonglat.csv\", \"w\") as f:\n",
    "with tqdm(total=len(data)) as pbar:\n",
    "    for (n, loc) in enumerate(data):\n",
    "        latlong[n, :] = get_long_lat(loc[\"geometry\"][\"coordinates\"])\n",
    "        print(latlong[n, :])\n",
    "        if n != 0 and n % 100:\n",
    "            pbar.update(100)\n",
    "        # f.write(f\"{lat},{long}\\n\")\n",
    "# df = pd.read_csv(\"data/addresslonglat.csv\")\n",
    "np.save(\"data/addresslonglat.npy\", latlong)"
   ]
  },
  {
   "cell_type": "code",
   "execution_count": null,
   "metadata": {},
   "outputs": [],
   "source": [
    "d = np.loadtxt(\"data/addresslonglat.npy\")"
   ]
  },
  {
   "cell_type": "code",
   "execution_count": null,
   "metadata": {},
   "outputs": [],
   "source": [
    "wgs84 = (6378.137, 6356.7523142, 1 / 298.257223563)"
   ]
  },
  {
   "cell_type": "code",
   "execution_count": null,
   "metadata": {},
   "outputs": [],
   "source": [
    "data[anoka[60000]]"
   ]
  },
  {
   "cell_type": "code",
   "execution_count": null,
   "metadata": {},
   "outputs": [],
   "source": []
  },
  {
   "cell_type": "markdown",
   "metadata": {},
   "source": [
    "Need to convert from crs = 'epsg:26915' to crs = 'epsg:4326' to get long/lat"
   ]
  },
  {
   "cell_type": "code",
   "execution_count": null,
   "metadata": {},
   "outputs": [],
   "source": [
    "data.crs"
   ]
  }
 ],
 "metadata": {
  "kernelspec": {
   "display_name": "Python 3.8.2 64-bit ('commute': venv)",
   "language": "python",
   "name": "python38264bitcommutevenv1ffda8bc98494db0bca66f23d132b556"
  },
  "language_info": {
   "codemirror_mode": {
    "name": "ipython",
    "version": 3
   },
   "file_extension": ".py",
   "mimetype": "text/x-python",
   "name": "python",
   "nbconvert_exporter": "python",
   "pygments_lexer": "ipython3",
   "version": "3.8.2"
  }
 },
 "nbformat": 4,
 "nbformat_minor": 4
}
