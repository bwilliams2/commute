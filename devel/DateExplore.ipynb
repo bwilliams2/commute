{
 "cells": [
  {
   "source": [
    "%load_ext autoreload\n",
    "\n",
    "%autoreload 2"
   ],
   "cell_type": "code",
   "outputs": [],
   "metadata": {},
   "execution_count": 7
  },
  {
   "source": [
    "import fiona\n",
    "from geopy.distance import geodesic\n",
    "from backend.geocalc.calc_distance import FindDistances\n",
    "from pyproj import Proj, transform\n",
    "import pandas as pd\n",
    "import numpy as np\n",
    "data = fiona.open(\"data/shp_loc_address_points/AddressPoints.shp\")\n",
    ""
   ],
   "cell_type": "code",
   "outputs": [
    {
     "output_type": "error",
     "ename": "ImportError",
     "evalue": "/home/bryce/code/commute/Application/backend/backend/geocalc/calc_distance.cpython-38-x86_64-linux-gnu.so: undefined symbol: _ZNK13GeographicLib8Geodesic10GenInverseEddddjRdS1_S1_S1_S1_S1_S1_",
     "traceback": [
      "\u001b[0;31m---------------------------------------------------------------------------\u001b[0m",
      "\u001b[0;31mImportError\u001b[0m                               Traceback (most recent call last)",
      "\u001b[0;32m<ipython-input-9-6e243d4dd663>\u001b[0m in \u001b[0;36m<module>\u001b[0;34m\u001b[0m\n\u001b[1;32m      1\u001b[0m \u001b[0;32mimport\u001b[0m \u001b[0mfiona\u001b[0m\u001b[0;34m\u001b[0m\u001b[0;34m\u001b[0m\u001b[0m\n\u001b[1;32m      2\u001b[0m \u001b[0;32mfrom\u001b[0m \u001b[0mgeopy\u001b[0m\u001b[0;34m.\u001b[0m\u001b[0mdistance\u001b[0m \u001b[0;32mimport\u001b[0m \u001b[0mgeodesic\u001b[0m\u001b[0;34m\u001b[0m\u001b[0;34m\u001b[0m\u001b[0m\n\u001b[0;32m----> 3\u001b[0;31m \u001b[0;32mfrom\u001b[0m \u001b[0mbackend\u001b[0m\u001b[0;34m.\u001b[0m\u001b[0mgeocalc\u001b[0m\u001b[0;34m.\u001b[0m\u001b[0mcalc_distance\u001b[0m \u001b[0;32mimport\u001b[0m \u001b[0mFindDistances\u001b[0m\u001b[0;34m\u001b[0m\u001b[0;34m\u001b[0m\u001b[0m\n\u001b[0m\u001b[1;32m      4\u001b[0m \u001b[0;32mfrom\u001b[0m \u001b[0mpyproj\u001b[0m \u001b[0;32mimport\u001b[0m \u001b[0mProj\u001b[0m\u001b[0;34m,\u001b[0m \u001b[0mtransform\u001b[0m\u001b[0;34m\u001b[0m\u001b[0;34m\u001b[0m\u001b[0m\n\u001b[1;32m      5\u001b[0m \u001b[0;32mimport\u001b[0m \u001b[0mpandas\u001b[0m \u001b[0;32mas\u001b[0m \u001b[0mpd\u001b[0m\u001b[0;34m\u001b[0m\u001b[0;34m\u001b[0m\u001b[0m\n",
      "\u001b[0;31mImportError\u001b[0m: /home/bryce/code/commute/Application/backend/backend/geocalc/calc_distance.cpython-38-x86_64-linux-gnu.so: undefined symbol: _ZNK13GeographicLib8Geodesic10GenInverseEddddjRdS1_S1_S1_S1_S1_S1_"
     ]
    }
   ],
   "metadata": {},
   "execution_count": 9
  },
  {
   "cell_type": "markdown",
   "execution_count": null,
   "metadata": {},
   "outputs": [],
   "source": [
    "Data has incorrect longitude latitude.\n",
    "They are provided as the projects for the current crs of EPSG:26915 rather than the actual longitude latitude.\n",
    "These need to be correct before they can be used for comparison."
   ]
  },
  {
   "source": [
    "house = (45.147757, -93.134062)"
   ],
   "cell_type": "code",
   "outputs": [],
   "metadata": {},
   "execution_count": 0
  },
  {
   "source": [
    "original = Proj(data.crs[\"init\"])\n",
    "destination = Proj(init='EPSG:4326')\n",
    "\n",
    "\n",
    "def get_long_lat(coors):\n",
    "    return transform(original, destination, coors[0], coors[1])[::-1]\n",
    "\n",
    "def test_distance(address, loc_coors):\n",
    "    address_coors = get_long_lat(address[\"geometry\"][\"coordinates\"])\n",
    "    return geodesic(address_coors, loc_coors)"
   ],
   "cell_type": "code",
   "outputs": [],
   "metadata": {},
   "execution_count": 0
  },
  {
   "source": [
    "len(data)"
   ],
   "cell_type": "code",
   "outputs": [],
   "metadata": {},
   "execution_count": 0
  },
  {
   "source": [
    "from tqdm.notebook import trange, tqdm\n",
    "\n",
    "latlong = np.empty((len(data), 2))\n",
    "# with open(\"data/addresslonglat.csv\", \"w\") as f:\n",
    "with tqdm(total=len(data)) as pbar:\n",
    "    for (n, loc) in enumerate(data):\n",
    "        latlong[n, :] = get_long_lat(loc[\"geometry\"][\"coordinates\"])\n",
    "        print(latlong[n, :])\n",
    "        if n != 0 and n % 100:\n",
    "            pbar.update(100)\n",
    "        # f.write(f\"{lat},{long}\\n\")\n",
    "# df = pd.read_csv(\"data/addresslonglat.csv\")\n",
    "np.save(\"data/addresslonglat.npy\", latlong)"
   ],
   "cell_type": "code",
   "outputs": [],
   "metadata": {},
   "execution_count": 0
  },
  {
   "source": [
    "d = np.loadtxt(\"data/addresslonglat.npy\")"
   ],
   "cell_type": "code",
   "outputs": [],
   "metadata": {},
   "execution_count": 0
  },
  {
   "source": [
    "wgs84 = (6378.137, 6356.7523142, 1 / 298.257223563)"
   ],
   "cell_type": "code",
   "outputs": [],
   "metadata": {},
   "execution_count": 0
  },
  {
   "source": [
    "data[anoka[60000]]"
   ],
   "cell_type": "code",
   "outputs": [],
   "metadata": {},
   "execution_count": 0
  },
  {
   "cell_type": "code",
   "execution_count": null,
   "metadata": {},
   "outputs": [],
   "source": []
  },
  {
   "cell_type": "markdown",
   "execution_count": null,
   "metadata": {},
   "outputs": [],
   "source": [
    "Need to convert from crs = 'epsg:26915' to crs = 'epsg:4326' to get long/lat"
   ]
  },
  {
   "source": [
    "data.crs"
   ],
   "cell_type": "code",
   "outputs": [],
   "metadata": {},
   "execution_count": 0
  }
 ],
 "metadata": {
  "kernelspec": {
   "display_name": "Python 3",
   "language": "python",
   "name": "python3"
  },
  "language_info": {
   "codemirror_mode": {
    "name": "ipython",
    "version": 3
   },
   "file_extension": ".py",
   "mimetype": "text/x-python",
   "name": "python",
   "nbconvert_exporter": "python",
   "pygments_lexer": "ipython3",
   "version": "3.8.1"
  }
 },
 "nbformat": 4,
 "nbformat_minor": 4
}