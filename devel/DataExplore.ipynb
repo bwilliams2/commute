{
 "cells": [
  {
   "cell_type": "code",
   "execution_count": null,
   "metadata": {},
   "outputs": [],
   "source": [
    "%load_ext autoreload\n",
    "\n",
    "%autoreload 2\n"
   ]
  },
  {
   "cell_type": "code",
   "execution_count": null,
   "metadata": {},
   "outputs": [],
   "source": [
    "files = list(Path(\"../webapp/modules/geotools/geotools/data/new_parcels\").glob(\"*Points.shp\"))"
   ]
  },
  {
   "cell_type": "code",
   "execution_count": null,
   "metadata": {},
   "outputs": [],
   "source": []
  },
  {
   "cell_type": "code",
   "execution_count": null,
   "metadata": {},
   "outputs": [],
   "source": []
  },
  {
   "cell_type": "code",
   "execution_count": null,
   "metadata": {},
   "outputs": [],
   "source": [
    "import geopandas as gpd\n",
    "df = gpd.read_file(\"../data/shp_plan_regional_parcels_full/ParcelsAnokaPoints.shp\")\n"
   ]
  },
  {
   "cell_type": "code",
   "execution_count": null,
   "metadata": {},
   "outputs": [],
   "source": [
    "df.shape"
   ]
  },
  {
   "cell_type": "code",
   "execution_count": null,
   "metadata": {},
   "outputs": [],
   "source": [
    "import fiona\n",
    "from geopy.distance import geodesic\n",
    "from pyproj import Proj, transform\n",
    "import pandas as pd\n",
    "from pathlib import Path\n",
    "import numpy as np\n",
    "\n",
    "for file in Path(\"../data/shp_plan_regional_parcels\").glob(\"*Points_4326.shp\"):\n",
    "    fpath = str(file.absolute())\n",
    "    datapoint = fiona.open(fpath)\n",
    "    print(file.name)\n",
    "    print(f\"Points file: {len(datapoint)}\")\n",
    "    data = fiona.open(fpath.replace(\"Points\", \"\"))\n",
    "    print(f\"Parcel file: {len(data)}\")\n",
    "    print(\"\\n\")"
   ]
  },
  {
   "cell_type": "code",
   "execution_count": null,
   "metadata": {},
   "outputs": [],
   "source": []
  },
  {
   "cell_type": "code",
   "execution_count": null,
   "metadata": {},
   "outputs": [],
   "source": [
    "data[0]"
   ]
  },
  {
   "cell_type": "code",
   "execution_count": null,
   "metadata": {},
   "outputs": [],
   "source": [
    "f'{tuple(data[0][\"geometry\"][\"coordinates\"][0])}'\n",
    "row = data[0]\n",
    "f'{(row[\"properties\"][\"LONGITUDE\"], row[\"properties\"][\"LONGITUDE\"])}'"
   ]
  },
  {
   "cell_type": "code",
   "execution_count": null,
   "metadata": {},
   "outputs": [],
   "source": [
    "def parse_columns(schema):\n",
    "    columns = []\n",
    "    for name, value in schema[\"properties\"].items():\n",
    "        if \"LONGITUDE\" == name or \"LATITUDE\" == name:\n",
    "            continue\n",
    "        if  \"str\" in value:\n",
    "            val_type = \"VARCHAR\"\n",
    "        elif \"int\" in value:\n",
    "            val_type = \"INTEGER\"\n",
    "        elif \"float\" in value:\n",
    "            val_type = \"DOUBLE PRECISION\"\n",
    "        columns.append(f\"{name} {val_type}\")\n",
    "    return columns\n",
    "cols = parse_columns(data.schema)\n",
    "\",\".join(cols)"
   ]
  },
  {
   "cell_type": "code",
   "execution_count": null,
   "metadata": {},
   "outputs": [],
   "source": [
    "data[0][\"properties\"][\"PIN\"]"
   ]
  },
  {
   "cell_type": "code",
   "execution_count": null,
   "metadata": {},
   "outputs": [],
   "source": [
    "data[4][\"properties\"][\"PIN\"]\n",
    "# data[27531][\"properties\"]"
   ]
  },
  {
   "cell_type": "code",
   "execution_count": null,
   "metadata": {},
   "outputs": [],
   "source": [
    "import numpy as np\n",
    "import matplotlib.pyplot as plt\n",
    "from mpl_toolkits.basemap import Basemap\n"
   ]
  },
  {
   "cell_type": "markdown",
   "metadata": {},
   "source": [
    "Data has incorrect longitude latitude.\n",
    "They are provided as the projects for the current crs of EPSG:26915 rather than the actual longitude latitude.\n",
    "These need to be correct before they can be used for comparison."
   ]
  },
  {
   "cell_type": "code",
   "execution_count": null,
   "metadata": {},
   "outputs": [],
   "source": [
    "import pandas as pd\n",
    "d = pd.DataFrame(taables.records)"
   ]
  },
  {
   "cell_type": "code",
   "execution_count": null,
   "metadata": {},
   "outputs": [],
   "source": [
    "from geotools.path_calc import parcel_address_search, address_search\n",
    "lat, lng = [45.147762, -93.134160]\n",
    "address_data = parcel_address_search(lng, lat, 5000.)"
   ]
  },
  {
   "cell_type": "code",
   "execution_count": null,
   "metadata": {},
   "outputs": [],
   "source": []
  },
  {
   "cell_type": "code",
   "execution_count": null,
   "metadata": {},
   "outputs": [],
   "source": [
    "type(address_data)"
   ]
  },
  {
   "cell_type": "code",
   "execution_count": null,
   "metadata": {},
   "outputs": [],
   "source": [
    "address_data[\"USECLASS\"].unique().tolist()"
   ]
  },
  {
   "cell_type": "code",
   "execution_count": null,
   "metadata": {},
   "outputs": [],
   "source": []
  },
  {
   "cell_type": "code",
   "execution_count": null,
   "metadata": {},
   "outputs": [],
   "source": [
    "address_data.groupby(\"YEAR_BUILT\").size()\n"
   ]
  },
  {
   "cell_type": "code",
   "execution_count": null,
   "metadata": {},
   "outputs": [],
   "source": [
    "ahousing_types = ['AGRICULTURAL', 'RESIDENTIAL SINGLE FAMILY',\n",
    "       'COMMERCIAL / GOLF COURSE', 'TAX FORFEIT', 'RESIDENTIAL DUPLEXES',\n",
    "       'MANUFACTURED HOME PARK', 'APARTMENTS / COOP', 'CONDOMINIUMS',\n",
    "       'SEASONAL RECREATIONAL', 'UTILITY PROPERTY', 'INDUSTRIAL',\n",
    "       'RAILROAD', 'SERVICE STATION']"
   ]
  },
  {
   "cell_type": "code",
   "execution_count": null,
   "metadata": {},
   "outputs": [],
   "source": [
    "from functools import reduce\n",
    "# reduceaddress_data[\"USECLASS1\"].unique()\n",
    "use_classes = list(reduce(lambda a, b: a + b, [address_data[f\"USECLASS{i}\"].unique().tolist() for i in range(1,5)]))\n",
    "set(use_classes)"
   ]
  },
  {
   "cell_type": "code",
   "execution_count": null,
   "metadata": {},
   "outputs": [],
   "source": [
    "address_data.loc[address_data[\"USECLASS1\"].str.contains(\"APART\")]"
   ]
  },
  {
   "cell_type": "code",
   "execution_count": null,
   "metadata": {},
   "outputs": [],
   "source": [
    "address_data.loc[address_data[\"YEAR_BUILT\"] > 1940][\"YEAR_BUILT\"].hist()"
   ]
  }
 ],
 "metadata": {
  "kernelspec": {
   "display_name": "Python 3.8.2 64-bit ('commute': venv)",
   "language": "python",
   "name": "python38264bitcommutevenv1ffda8bc98494db0bca66f23d132b556"
  },
  "language_info": {
   "codemirror_mode": {
    "name": "ipython",
    "version": 3
   },
   "file_extension": ".py",
   "mimetype": "text/x-python",
   "name": "python",
   "nbconvert_exporter": "python",
   "pygments_lexer": "ipython3",
   "version": "3.8.2-final"
  }
 },
 "nbformat": 4,
 "nbformat_minor": 4
}
